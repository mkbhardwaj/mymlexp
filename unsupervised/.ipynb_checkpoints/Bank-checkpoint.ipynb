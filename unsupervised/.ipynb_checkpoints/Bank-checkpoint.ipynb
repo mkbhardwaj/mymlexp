{
 "cells": [
  {
   "cell_type": "markdown",
   "metadata": {},
   "source": [
    "# Bank dataset\n",
    "\n",
    "We have a transaction details of 515 banks which include number of DD taken, Withdrawals, Deposits, Area of the branch and Average Walk-Ins. Profile the banks into segments and come up with recommendations for each segment."
   ]
  },
  {
   "cell_type": "code",
   "execution_count": 1,
   "metadata": {},
   "outputs": [],
   "source": [
    "import pandas as pd\n",
    "from sklearn.cluster import KMeans \n",
    "import matplotlib.pyplot as plt\n",
    "from sklearn.preprocessing import StandardScaler\n",
    "from sklearn.metrics import silhouette_score"
   ]
  },
  {
   "cell_type": "code",
   "execution_count": 2,
   "metadata": {},
   "outputs": [
    {
     "data": {
      "text/html": [
       "<div>\n",
       "<style scoped>\n",
       "    .dataframe tbody tr th:only-of-type {\n",
       "        vertical-align: middle;\n",
       "    }\n",
       "\n",
       "    .dataframe tbody tr th {\n",
       "        vertical-align: top;\n",
       "    }\n",
       "\n",
       "    .dataframe thead th {\n",
       "        text-align: right;\n",
       "    }\n",
       "</style>\n",
       "<table border=\"1\" class=\"dataframe\">\n",
       "  <thead>\n",
       "    <tr style=\"text-align: right;\">\n",
       "      <th></th>\n",
       "      <th>Bank</th>\n",
       "      <th>DD</th>\n",
       "      <th>Withdrawals</th>\n",
       "      <th>Deposits</th>\n",
       "      <th>Branch Area in sqft</th>\n",
       "      <th>avg daily walkins</th>\n",
       "    </tr>\n",
       "  </thead>\n",
       "  <tbody>\n",
       "    <tr>\n",
       "      <th>0</th>\n",
       "      <td>1</td>\n",
       "      <td>227</td>\n",
       "      <td>147</td>\n",
       "      <td>111</td>\n",
       "      <td>2460</td>\n",
       "      <td>639</td>\n",
       "    </tr>\n",
       "    <tr>\n",
       "      <th>1</th>\n",
       "      <td>2</td>\n",
       "      <td>123</td>\n",
       "      <td>86</td>\n",
       "      <td>65</td>\n",
       "      <td>3510</td>\n",
       "      <td>436</td>\n",
       "    </tr>\n",
       "    <tr>\n",
       "      <th>2</th>\n",
       "      <td>3</td>\n",
       "      <td>306</td>\n",
       "      <td>149</td>\n",
       "      <td>76</td>\n",
       "      <td>2570</td>\n",
       "      <td>669</td>\n",
       "    </tr>\n",
       "    <tr>\n",
       "      <th>3</th>\n",
       "      <td>4</td>\n",
       "      <td>251</td>\n",
       "      <td>112</td>\n",
       "      <td>129</td>\n",
       "      <td>3650</td>\n",
       "      <td>623</td>\n",
       "    </tr>\n",
       "    <tr>\n",
       "      <th>4</th>\n",
       "      <td>5</td>\n",
       "      <td>174</td>\n",
       "      <td>135</td>\n",
       "      <td>128</td>\n",
       "      <td>3400</td>\n",
       "      <td>579</td>\n",
       "    </tr>\n",
       "  </tbody>\n",
       "</table>\n",
       "</div>"
      ],
      "text/plain": [
       "   Bank   DD  Withdrawals  Deposits  Branch Area in sqft  avg daily walkins\n",
       "0     1  227          147       111                 2460                639\n",
       "1     2  123           86        65                 3510                436\n",
       "2     3  306          149        76                 2570                669\n",
       "3     4  251          112       129                 3650                623\n",
       "4     5  174          135       128                 3400                579"
      ]
     },
     "execution_count": 2,
     "metadata": {},
     "output_type": "execute_result"
    }
   ],
   "source": [
    "data_df = pd.read_csv(\"bank.csv\")\n",
    "data_df.head()"
   ]
  },
  {
   "cell_type": "code",
   "execution_count": null,
   "metadata": {},
   "outputs": [],
   "source": []
  },
  {
   "cell_type": "code",
   "execution_count": 3,
   "metadata": {},
   "outputs": [
    {
     "data": {
      "text/plain": [
       "(515, 6)"
      ]
     },
     "execution_count": 3,
     "metadata": {},
     "output_type": "execute_result"
    }
   ],
   "source": [
    "data_df.shape"
   ]
  },
  {
   "cell_type": "code",
   "execution_count": 4,
   "metadata": {},
   "outputs": [
    {
     "name": "stdout",
     "output_type": "stream",
     "text": [
      "<class 'pandas.core.frame.DataFrame'>\n",
      "RangeIndex: 515 entries, 0 to 514\n",
      "Data columns (total 6 columns):\n",
      " #   Column               Non-Null Count  Dtype\n",
      "---  ------               --------------  -----\n",
      " 0   Bank                 515 non-null    int64\n",
      " 1   DD                   515 non-null    int64\n",
      " 2   Withdrawals          515 non-null    int64\n",
      " 3   Deposits             515 non-null    int64\n",
      " 4   Branch Area in sqft  515 non-null    int64\n",
      " 5   avg daily walkins    515 non-null    int64\n",
      "dtypes: int64(6)\n",
      "memory usage: 24.3 KB\n"
     ]
    }
   ],
   "source": [
    "data_df.info()"
   ]
  },
  {
   "cell_type": "code",
   "execution_count": 5,
   "metadata": {},
   "outputs": [
    {
     "data": {
      "text/plain": [
       "0"
      ]
     },
     "execution_count": 5,
     "metadata": {},
     "output_type": "execute_result"
    }
   ],
   "source": [
    "data_df.duplicated().sum()"
   ]
  },
  {
   "cell_type": "code",
   "execution_count": 6,
   "metadata": {},
   "outputs": [],
   "source": [
    "X = StandardScaler()\n",
    "scaled_df = X.fit_transform(data_df.iloc[:,1:6])"
   ]
  },
  {
   "cell_type": "code",
   "execution_count": 7,
   "metadata": {},
   "outputs": [
    {
     "data": {
      "text/plain": [
       "array([[-0.07888413, -0.06497257,  1.02602411, -1.08710095,  0.48432644],\n",
       "       [-1.64081915, -1.13811308, -0.58410514,  1.31763546, -1.949528  ],\n",
       "       [ 1.10758573, -0.02978763, -0.19907423, -0.83517619,  0.84400936],\n",
       "       ...,\n",
       "       [ 1.51308809, -1.13811308,  0.92101568, -0.19391314,  0.92793538],\n",
       "       [-0.60453534,  0.44520899, -1.66919225, -0.40003341, -1.12225728],\n",
       "       [ 1.48305088,  0.62113366,  0.53598477, -0.53744692,  2.01897357]])"
      ]
     },
     "execution_count": 7,
     "metadata": {},
     "output_type": "execute_result"
    }
   ],
   "source": [
    "scaled_df"
   ]
  },
  {
   "cell_type": "markdown",
   "metadata": {},
   "source": [
    "# Creating Clusters using KMeans"
   ]
  },
  {
   "cell_type": "markdown",
   "metadata": {},
   "source": [
    "# Forming 2 Clusters with K=2"
   ]
  },
  {
   "cell_type": "code",
   "execution_count": 8,
   "metadata": {},
   "outputs": [
    {
     "data": {
      "text/plain": [
       "KMeans(n_clusters=2)"
      ]
     },
     "execution_count": 8,
     "metadata": {},
     "output_type": "execute_result"
    }
   ],
   "source": [
    "k_means = KMeans(n_clusters = 2)\n",
    "k_means.fit(scaled_df)"
   ]
  },
  {
   "cell_type": "code",
   "execution_count": 9,
   "metadata": {},
   "outputs": [
    {
     "data": {
      "text/plain": [
       "array([0, 1, 0, 1, 1, 0, 1, 0, 0, 0, 0, 0, 0, 1, 0, 0, 1, 1, 1, 1, 1, 1,\n",
       "       0, 0, 1, 1, 1, 1, 1, 0, 0, 0, 1, 1, 1, 0, 1, 0, 0, 1, 1, 0, 0, 0,\n",
       "       0, 1, 0, 0, 0, 0, 1, 0, 0, 0, 1, 0, 1, 0, 0, 1, 1, 0, 0, 0, 1, 1,\n",
       "       1, 1, 1, 0, 1, 0, 1, 1, 0, 1, 0, 1, 1, 0, 0, 1, 1, 1, 0, 0, 0, 1,\n",
       "       1, 0, 0, 0, 0, 1, 1, 1, 1, 0, 1, 0, 0, 1, 0, 1, 0, 0, 0, 0, 0, 0,\n",
       "       0, 1, 0, 1, 1, 1, 1, 0, 0, 0, 0, 1, 0, 0, 1, 1, 0, 1, 1, 0, 1, 0,\n",
       "       1, 0, 0, 1, 1, 1, 0, 0, 0, 0, 1, 0, 0, 1, 0, 1, 0, 0, 1, 0, 0, 0,\n",
       "       1, 1, 0, 1, 0, 1, 0, 0, 0, 0, 0, 1, 1, 1, 0, 1, 1, 1, 0, 0, 1, 0,\n",
       "       1, 0, 0, 1, 1, 1, 1, 1, 0, 1, 0, 1, 1, 1, 1, 1, 1, 1, 0, 1, 1, 1,\n",
       "       0, 0, 1, 0, 1, 1, 0, 1, 1, 1, 0, 0, 1, 1, 1, 1, 1, 0, 0, 1, 1, 0,\n",
       "       0, 1, 1, 0, 0, 1, 0, 0, 0, 1, 0, 1, 0, 0, 1, 0, 1, 1, 0, 0, 0, 0,\n",
       "       0, 0, 0, 0, 0, 1, 0, 1, 1, 0, 1, 0, 1, 1, 1, 1, 0, 0, 0, 1, 1, 1,\n",
       "       1, 0, 1, 1, 0, 0, 0, 1, 0, 1, 0, 0, 1, 0, 0, 0, 0, 0, 0, 0, 1, 0,\n",
       "       0, 0, 0, 1, 0, 0, 1, 1, 1, 1, 0, 1, 0, 0, 0, 1, 0, 1, 0, 0, 0, 1,\n",
       "       1, 1, 0, 1, 1, 1, 0, 1, 1, 0, 0, 0, 0, 1, 1, 0, 0, 0, 0, 1, 1, 1,\n",
       "       0, 0, 1, 0, 0, 0, 0, 0, 1, 1, 1, 1, 0, 1, 1, 0, 1, 0, 1, 1, 1, 1,\n",
       "       1, 0, 1, 1, 1, 0, 1, 0, 0, 1, 0, 1, 0, 0, 0, 0, 1, 1, 1, 0, 1, 1,\n",
       "       1, 0, 1, 0, 0, 1, 1, 0, 0, 1, 0, 1, 1, 1, 0, 0, 1, 1, 1, 1, 0, 1,\n",
       "       1, 1, 0, 1, 1, 1, 0, 1, 1, 0, 1, 1, 1, 1, 0, 0, 0, 1, 1, 1, 0, 1,\n",
       "       1, 1, 0, 0, 0, 0, 1, 0, 0, 1, 1, 0, 1, 1, 0, 1, 1, 0, 1, 1, 1, 0,\n",
       "       1, 1, 1, 1, 0, 1, 0, 1, 1, 1, 0, 1, 1, 1, 1, 0, 1, 0, 0, 0, 1, 1,\n",
       "       0, 0, 0, 1, 0, 0, 1, 1, 0, 1, 1, 1, 1, 1, 1, 1, 1, 1, 1, 0, 0, 0,\n",
       "       0, 0, 1, 0, 1, 0, 1, 1, 1, 1, 1, 1, 0, 0, 1, 1, 1, 0, 1, 0, 0, 1,\n",
       "       1, 0, 0, 1, 0, 1, 0, 1, 0])"
      ]
     },
     "execution_count": 9,
     "metadata": {},
     "output_type": "execute_result"
    }
   ],
   "source": [
    "k_means.labels_"
   ]
  },
  {
   "cell_type": "code",
   "execution_count": 10,
   "metadata": {},
   "outputs": [
    {
     "data": {
      "text/plain": [
       "1943.8365337482044"
      ]
     },
     "execution_count": 10,
     "metadata": {},
     "output_type": "execute_result"
    }
   ],
   "source": [
    "k_means.inertia_"
   ]
  },
  {
   "cell_type": "code",
   "execution_count": 11,
   "metadata": {},
   "outputs": [
    {
     "data": {
      "text/plain": [
       "1593.8960657341074"
      ]
     },
     "execution_count": 11,
     "metadata": {},
     "output_type": "execute_result"
    }
   ],
   "source": [
    "k_means = KMeans(n_clusters = 3)\n",
    "k_means.fit(scaled_df)\n",
    "k_means.inertia_"
   ]
  },
  {
   "cell_type": "code",
   "execution_count": 12,
   "metadata": {},
   "outputs": [
    {
     "data": {
      "text/plain": [
       "array([1, 0, 1, 2, 0, 0, 0, 2, 1, 1, 1, 1, 1, 2, 2, 2, 0, 2, 0, 2, 0, 0,\n",
       "       2, 1, 2, 2, 0, 0, 0, 1, 1, 1, 0, 0, 2, 1, 0, 1, 1, 0, 0, 1, 2, 1,\n",
       "       1, 0, 1, 2, 1, 1, 0, 1, 1, 1, 0, 1, 0, 2, 1, 2, 2, 2, 2, 1, 0, 0,\n",
       "       0, 0, 0, 1, 0, 1, 0, 0, 2, 2, 2, 0, 2, 1, 1, 0, 2, 2, 2, 1, 1, 0,\n",
       "       0, 2, 2, 1, 1, 0, 0, 0, 0, 1, 0, 1, 0, 0, 2, 0, 1, 0, 1, 1, 1, 2,\n",
       "       0, 0, 2, 2, 0, 0, 2, 2, 2, 1, 2, 0, 1, 1, 0, 0, 2, 0, 2, 2, 0, 2,\n",
       "       2, 1, 1, 0, 0, 0, 1, 1, 1, 2, 2, 1, 1, 0, 1, 2, 1, 1, 0, 1, 1, 1,\n",
       "       0, 0, 2, 2, 1, 0, 1, 1, 1, 1, 1, 2, 0, 0, 1, 2, 2, 2, 2, 1, 0, 1,\n",
       "       0, 1, 1, 0, 0, 0, 0, 0, 1, 2, 1, 0, 2, 0, 0, 0, 2, 2, 1, 0, 0, 0,\n",
       "       1, 2, 0, 2, 2, 0, 1, 2, 0, 0, 1, 2, 2, 2, 2, 0, 2, 2, 1, 0, 2, 1,\n",
       "       1, 2, 2, 2, 1, 0, 1, 1, 1, 2, 1, 0, 1, 2, 0, 1, 0, 0, 0, 2, 1, 1,\n",
       "       1, 2, 1, 2, 1, 0, 1, 0, 0, 1, 0, 1, 2, 2, 0, 2, 1, 1, 1, 0, 2, 0,\n",
       "       0, 2, 0, 0, 1, 1, 2, 2, 1, 0, 1, 1, 0, 1, 1, 1, 1, 1, 1, 1, 0, 1,\n",
       "       1, 1, 1, 2, 2, 1, 2, 0, 2, 2, 1, 0, 1, 1, 1, 2, 2, 0, 1, 1, 1, 2,\n",
       "       2, 2, 1, 0, 0, 0, 2, 0, 0, 1, 1, 2, 2, 0, 2, 1, 2, 1, 2, 0, 0, 2,\n",
       "       1, 1, 1, 2, 1, 2, 2, 1, 0, 2, 0, 2, 1, 0, 0, 1, 0, 1, 0, 0, 0, 2,\n",
       "       0, 1, 0, 0, 2, 1, 0, 1, 1, 2, 1, 2, 1, 1, 2, 1, 0, 0, 0, 1, 2, 0,\n",
       "       0, 1, 2, 1, 1, 0, 0, 1, 1, 2, 2, 0, 2, 0, 1, 1, 2, 0, 0, 2, 1, 0,\n",
       "       0, 2, 1, 0, 0, 0, 1, 0, 0, 1, 0, 0, 2, 0, 1, 2, 1, 2, 0, 2, 2, 2,\n",
       "       0, 0, 1, 1, 1, 1, 2, 1, 1, 2, 2, 1, 0, 0, 1, 2, 2, 2, 0, 0, 2, 1,\n",
       "       0, 2, 2, 0, 1, 2, 2, 0, 0, 0, 1, 2, 2, 0, 2, 2, 0, 1, 1, 2, 2, 0,\n",
       "       1, 2, 1, 0, 1, 1, 2, 0, 2, 2, 2, 0, 0, 2, 2, 0, 0, 2, 2, 1, 1, 2,\n",
       "       1, 2, 2, 2, 0, 1, 0, 0, 2, 0, 0, 2, 1, 2, 0, 0, 0, 2, 0, 1, 2, 0,\n",
       "       0, 1, 1, 2, 1, 0, 2, 0, 1])"
      ]
     },
     "execution_count": 12,
     "metadata": {},
     "output_type": "execute_result"
    }
   ],
   "source": [
    "k_means.labels_"
   ]
  },
  {
   "cell_type": "code",
   "execution_count": 13,
   "metadata": {},
   "outputs": [
    {
     "data": {
      "text/plain": [
       "1375.3855458207242"
      ]
     },
     "execution_count": 13,
     "metadata": {},
     "output_type": "execute_result"
    }
   ],
   "source": [
    "k_means = KMeans(n_clusters = 4)\n",
    "k_means.fit(scaled_df)\n",
    "k_means.inertia_"
   ]
  },
  {
   "cell_type": "code",
   "execution_count": 14,
   "metadata": {},
   "outputs": [
    {
     "data": {
      "text/plain": [
       "array([3, 0, 3, 2, 0, 1, 0, 2, 3, 3, 1, 1, 1, 0, 2, 2, 1, 2, 1, 2, 0, 0,\n",
       "       1, 3, 0, 2, 0, 0, 0, 3, 3, 0, 0, 0, 2, 0, 1, 3, 3, 1, 0, 3, 2, 1,\n",
       "       1, 0, 3, 2, 1, 1, 0, 3, 3, 3, 0, 3, 1, 2, 1, 2, 2, 2, 2, 1, 1, 0,\n",
       "       1, 1, 0, 3, 1, 1, 0, 1, 2, 2, 2, 0, 2, 3, 3, 1, 2, 0, 2, 1, 3, 1,\n",
       "       0, 2, 2, 3, 3, 1, 1, 1, 1, 3, 0, 1, 1, 1, 2, 1, 3, 1, 1, 1, 3, 2,\n",
       "       1, 0, 2, 2, 1, 1, 2, 2, 2, 3, 2, 1, 3, 1, 0, 0, 2, 1, 2, 2, 0, 2,\n",
       "       2, 3, 3, 1, 0, 1, 3, 1, 3, 1, 2, 3, 3, 0, 3, 2, 3, 3, 0, 3, 3, 3,\n",
       "       1, 1, 2, 0, 1, 0, 1, 3, 3, 3, 3, 2, 0, 0, 3, 2, 0, 2, 2, 1, 1, 3,\n",
       "       0, 3, 3, 0, 0, 0, 1, 1, 1, 2, 3, 0, 2, 0, 1, 1, 2, 2, 3, 1, 0, 1,\n",
       "       3, 2, 0, 2, 2, 0, 3, 2, 1, 1, 1, 2, 2, 2, 2, 0, 2, 2, 1, 1, 2, 3,\n",
       "       3, 0, 2, 2, 3, 0, 1, 1, 3, 1, 3, 1, 1, 2, 0, 3, 1, 1, 1, 2, 3, 1,\n",
       "       3, 2, 1, 2, 1, 0, 3, 1, 1, 1, 1, 3, 2, 2, 0, 2, 1, 1, 3, 1, 2, 1,\n",
       "       1, 2, 0, 0, 3, 3, 2, 2, 1, 1, 1, 1, 1, 3, 3, 1, 1, 3, 3, 3, 1, 3,\n",
       "       3, 3, 3, 2, 2, 3, 2, 0, 2, 2, 3, 1, 1, 3, 3, 2, 2, 1, 1, 3, 3, 2,\n",
       "       2, 2, 3, 1, 1, 0, 2, 0, 0, 1, 3, 2, 2, 1, 2, 3, 2, 3, 1, 1, 0, 2,\n",
       "       3, 3, 1, 2, 3, 2, 2, 1, 0, 2, 1, 2, 3, 0, 0, 1, 1, 3, 1, 0, 1, 2,\n",
       "       0, 3, 1, 1, 2, 3, 0, 3, 3, 2, 3, 2, 3, 3, 2, 3, 1, 1, 0, 3, 2, 0,\n",
       "       1, 3, 2, 3, 3, 1, 1, 3, 3, 2, 2, 0, 2, 0, 3, 3, 2, 0, 1, 2, 3, 1,\n",
       "       0, 2, 3, 1, 1, 1, 3, 0, 1, 3, 1, 0, 2, 1, 3, 2, 3, 2, 0, 0, 2, 2,\n",
       "       1, 1, 1, 3, 3, 3, 2, 3, 3, 2, 2, 3, 1, 0, 1, 2, 2, 2, 1, 1, 2, 3,\n",
       "       1, 2, 2, 1, 3, 2, 2, 0, 1, 0, 3, 0, 2, 0, 2, 2, 0, 3, 3, 2, 0, 1,\n",
       "       1, 3, 3, 0, 3, 3, 2, 0, 2, 2, 1, 0, 0, 0, 2, 0, 0, 2, 2, 3, 3, 2,\n",
       "       3, 2, 0, 2, 1, 1, 1, 1, 2, 0, 0, 0, 3, 2, 0, 0, 0, 2, 1, 3, 1, 1,\n",
       "       0, 1, 3, 2, 3, 1, 2, 1, 3])"
      ]
     },
     "execution_count": 14,
     "metadata": {},
     "output_type": "execute_result"
    }
   ],
   "source": [
    "k_means.labels_"
   ]
  },
  {
   "cell_type": "code",
   "execution_count": 15,
   "metadata": {},
   "outputs": [
    {
     "data": {
      "text/plain": [
       "1220.1520305527106"
      ]
     },
     "execution_count": 15,
     "metadata": {},
     "output_type": "execute_result"
    }
   ],
   "source": [
    "k_means = KMeans(n_clusters = 5)\n",
    "k_means.fit(scaled_df)\n",
    "k_means.inertia_"
   ]
  },
  {
   "cell_type": "code",
   "execution_count": 18,
   "metadata": {},
   "outputs": [
    {
     "data": {
      "text/plain": [
       "1115.8201669696202"
      ]
     },
     "execution_count": 18,
     "metadata": {},
     "output_type": "execute_result"
    }
   ],
   "source": [
    "k_means = KMeans(n_clusters = 6)\n",
    "k_means.fit(scaled_df)\n",
    "k_means.inertia_"
   ]
  },
  {
   "cell_type": "code",
   "execution_count": 16,
   "metadata": {},
   "outputs": [
    {
     "data": {
      "text/plain": [
       "Text(0.5, 1.0, 'Selecting k with the Elbow Method')"
      ]
     },
     "execution_count": 16,
     "metadata": {},
     "output_type": "execute_result"
    },
    {
     "data": {
      "image/png": "[encoded data removed]",
      "text/plain": [
       "<Figure size 432x288 with 1 Axes>"
      ]
     },
     "metadata": {
      "needs_background": "light"
     },
     "output_type": "display_data"
    }
   ],
   "source": [
    "clusters=range(1,10)\n",
    "sse=[]\n",
    "\n",
    "for k in clusters:\n",
    "    model=KMeans(n_clusters=k)\n",
    "    model.fit(scaled_df)\n",
    "    sse.append(model.inertia_)\n",
    "\n",
    "plt.plot(clusters, sse, 'bx-')\n",
    "plt.xlabel('k')\n",
    "plt.ylabel('Inertia (With in SSE)')\n",
    "plt.title('Selecting k with the Elbow Method')"
   ]
  },
  {
   "cell_type": "code",
   "execution_count": 17,
   "metadata": {},
   "outputs": [],
   "source": [
    "kmeansClustering = KMeans(5)\n",
    "kmeansClustering.fit(scaled_df)\n",
    "labels = kmeansClustering.predict(scaled_df)"
   ]
  },
  {
   "cell_type": "code",
   "execution_count": 18,
   "metadata": {},
   "outputs": [
    {
     "name": "stdout",
     "output_type": "stream",
     "text": [
      "0.22862632923131085\n"
     ]
    }
   ],
   "source": [
    "print(silhouette_score(scaled_df,labels))"
   ]
  },
  {
   "cell_type": "code",
   "execution_count": 20,
   "metadata": {},
   "outputs": [
    {
     "name": "stdout",
     "output_type": "stream",
     "text": [
      "0.22762879486901233\n"
     ]
    }
   ],
   "source": [
    "kmeansClustering = KMeans(4)\n",
    "kmeansClustering.fit(scaled_df)\n",
    "labels = kmeansClustering.predict(scaled_df)\n",
    "print(silhouette_score(scaled_df,labels))"
   ]
  },
  {
   "cell_type": "code",
   "execution_count": 21,
   "metadata": {},
   "outputs": [],
   "source": [
    "kmeansClustering = KMeans(5)\n",
    "kmeansClustering.fit(scaled_df)\n",
    "labels = kmeansClustering.predict(scaled_df)"
   ]
  },
  {
   "cell_type": "code",
   "execution_count": 22,
   "metadata": {},
   "outputs": [
    {
     "data": {
      "text/plain": [
       "array([2, 4, 3, 2, 2, 1, 4, 1, 3, 3, 1, 1, 3, 0, 0, 0, 1, 0, 1, 0, 4, 4,\n",
       "       1, 3, 0, 0, 2, 4, 2, 3, 3, 2, 2, 2, 0, 2, 1, 2, 3, 1, 4, 3, 0, 1,\n",
       "       1, 2, 3, 0, 1, 2, 4, 3, 2, 3, 4, 3, 1, 0, 2, 0, 0, 0, 0, 2, 2, 4,\n",
       "       2, 1, 4, 3, 1, 1, 4, 1, 3, 0, 0, 4, 2, 3, 3, 1, 0, 0, 0, 2, 3, 2,\n",
       "       4, 0, 0, 2, 3, 2, 2, 1, 1, 3, 4, 2, 2, 1, 0, 1, 3, 2, 2, 1, 3, 0,\n",
       "       2, 4, 0, 0, 1, 1, 0, 0, 0, 2, 0, 1, 2, 2, 2, 4, 0, 1, 0, 0, 4, 0,\n",
       "       0, 3, 3, 2, 4, 1, 3, 1, 2, 1, 0, 3, 3, 4, 3, 0, 3, 2, 4, 3, 3, 2,\n",
       "       1, 1, 0, 0, 1, 2, 1, 3, 2, 3, 3, 0, 4, 4, 3, 0, 0, 0, 0, 1, 1, 3,\n",
       "       4, 2, 3, 4, 4, 1, 1, 1, 2, 0, 3, 4, 0, 4, 2, 1, 1, 0, 1, 1, 4, 1,\n",
       "       2, 0, 4, 0, 0, 4, 3, 1, 1, 2, 2, 0, 0, 0, 0, 4, 0, 0, 2, 2, 0, 3,\n",
       "       3, 4, 0, 0, 3, 4, 2, 1, 3, 1, 3, 1, 2, 0, 4, 2, 2, 2, 2, 0, 3, 1,\n",
       "       2, 0, 1, 0, 2, 4, 2, 1, 1, 2, 1, 3, 0, 0, 4, 0, 2, 1, 3, 2, 0, 1,\n",
       "       1, 1, 4, 4, 3, 3, 0, 0, 2, 2, 1, 2, 1, 3, 3, 1, 2, 2, 2, 3, 2, 3,\n",
       "       2, 3, 3, 0, 0, 3, 0, 4, 0, 0, 3, 1, 2, 3, 3, 0, 0, 2, 2, 3, 3, 0,\n",
       "       0, 0, 3, 2, 1, 4, 0, 4, 4, 2, 3, 0, 0, 1, 0, 3, 1, 3, 1, 1, 4, 2,\n",
       "       3, 3, 1, 0, 3, 2, 0, 1, 4, 0, 1, 0, 3, 4, 4, 1, 2, 3, 1, 4, 1, 0,\n",
       "       4, 3, 1, 2, 0, 3, 4, 3, 3, 0, 3, 0, 3, 3, 3, 3, 1, 1, 4, 3, 0, 4,\n",
       "       1, 3, 0, 3, 3, 2, 1, 3, 3, 0, 0, 4, 0, 4, 3, 3, 1, 4, 1, 0, 3, 1,\n",
       "       4, 0, 3, 1, 1, 1, 3, 4, 1, 3, 1, 4, 0, 1, 2, 0, 3, 0, 4, 4, 0, 0,\n",
       "       1, 1, 1, 3, 3, 3, 0, 3, 3, 0, 0, 2, 1, 4, 1, 0, 0, 0, 1, 2, 0, 3,\n",
       "       1, 0, 0, 4, 3, 0, 0, 4, 1, 4, 2, 0, 0, 4, 0, 0, 4, 3, 3, 0, 4, 1,\n",
       "       2, 3, 3, 4, 3, 3, 0, 4, 1, 0, 1, 4, 4, 4, 2, 4, 4, 0, 0, 3, 3, 0,\n",
       "       3, 0, 2, 0, 1, 2, 1, 2, 0, 4, 4, 2, 3, 0, 4, 4, 4, 0, 1, 3, 1, 1,\n",
       "       4, 1, 1, 0, 3, 1, 0, 1, 3])"
      ]
     },
     "execution_count": 22,
     "metadata": {},
     "output_type": "execute_result"
    }
   ],
   "source": [
    "labels"
   ]
  },
  {
   "cell_type": "code",
   "execution_count": 23,
   "metadata": {},
   "outputs": [
    {
     "data": {
      "text/html": [
       "<div>\n",
       "<style scoped>\n",
       "    .dataframe tbody tr th:only-of-type {\n",
       "        vertical-align: middle;\n",
       "    }\n",
       "\n",
       "    .dataframe tbody tr th {\n",
       "        vertical-align: top;\n",
       "    }\n",
       "\n",
       "    .dataframe thead th {\n",
       "        text-align: right;\n",
       "    }\n",
       "</style>\n",
       "<table border=\"1\" class=\"dataframe\">\n",
       "  <thead>\n",
       "    <tr style=\"text-align: right;\">\n",
       "      <th></th>\n",
       "      <th>Bank</th>\n",
       "      <th>DD</th>\n",
       "      <th>Withdrawals</th>\n",
       "      <th>Deposits</th>\n",
       "      <th>Branch Area in sqft</th>\n",
       "      <th>avg daily walkins</th>\n",
       "      <th>group</th>\n",
       "    </tr>\n",
       "  </thead>\n",
       "  <tbody>\n",
       "    <tr>\n",
       "      <th>0</th>\n",
       "      <td>1</td>\n",
       "      <td>227</td>\n",
       "      <td>147</td>\n",
       "      <td>111</td>\n",
       "      <td>2460</td>\n",
       "      <td>639</td>\n",
       "      <td>2</td>\n",
       "    </tr>\n",
       "    <tr>\n",
       "      <th>1</th>\n",
       "      <td>2</td>\n",
       "      <td>123</td>\n",
       "      <td>86</td>\n",
       "      <td>65</td>\n",
       "      <td>3510</td>\n",
       "      <td>436</td>\n",
       "      <td>4</td>\n",
       "    </tr>\n",
       "    <tr>\n",
       "      <th>2</th>\n",
       "      <td>3</td>\n",
       "      <td>306</td>\n",
       "      <td>149</td>\n",
       "      <td>76</td>\n",
       "      <td>2570</td>\n",
       "      <td>669</td>\n",
       "      <td>3</td>\n",
       "    </tr>\n",
       "    <tr>\n",
       "      <th>3</th>\n",
       "      <td>4</td>\n",
       "      <td>251</td>\n",
       "      <td>112</td>\n",
       "      <td>129</td>\n",
       "      <td>3650</td>\n",
       "      <td>623</td>\n",
       "      <td>2</td>\n",
       "    </tr>\n",
       "    <tr>\n",
       "      <th>4</th>\n",
       "      <td>5</td>\n",
       "      <td>174</td>\n",
       "      <td>135</td>\n",
       "      <td>128</td>\n",
       "      <td>3400</td>\n",
       "      <td>579</td>\n",
       "      <td>2</td>\n",
       "    </tr>\n",
       "  </tbody>\n",
       "</table>\n",
       "</div>"
      ],
      "text/plain": [
       "   Bank   DD  Withdrawals  Deposits  Branch Area in sqft  avg daily walkins  \\\n",
       "0     1  227          147       111                 2460                639   \n",
       "1     2  123           86        65                 3510                436   \n",
       "2     3  306          149        76                 2570                669   \n",
       "3     4  251          112       129                 3650                623   \n",
       "4     5  174          135       128                 3400                579   \n",
       "\n",
       "   group  \n",
       "0      2  \n",
       "1      4  \n",
       "2      3  \n",
       "3      2  \n",
       "4      2  "
      ]
     },
     "execution_count": 23,
     "metadata": {},
     "output_type": "execute_result"
    }
   ],
   "source": [
    "data_df[\"group\"] = labels\n",
    "data_df.head()"
   ]
  },
  {
   "cell_type": "markdown",
   "metadata": {},
   "source": [
    "# Cluster Profiling"
   ]
  },
  {
   "cell_type": "code",
   "execution_count": 24,
   "metadata": {},
   "outputs": [
    {
     "data": {
      "text/plain": [
       "0    131\n",
       "1    107\n",
       "2     86\n",
       "3    112\n",
       "4     79\n",
       "Name: group, dtype: int64"
      ]
     },
     "execution_count": 24,
     "metadata": {},
     "output_type": "execute_result"
    }
   ],
   "source": [
    "data_df.group.value_counts().sort_index()"
   ]
  },
  {
   "cell_type": "code",
   "execution_count": 25,
   "metadata": {},
   "outputs": [
    {
     "data": {
      "text/html": [
       "<div>\n",
       "<style scoped>\n",
       "    .dataframe tbody tr th:only-of-type {\n",
       "        vertical-align: middle;\n",
       "    }\n",
       "\n",
       "    .dataframe tbody tr th {\n",
       "        vertical-align: top;\n",
       "    }\n",
       "\n",
       "    .dataframe thead th {\n",
       "        text-align: right;\n",
       "    }\n",
       "</style>\n",
       "<table border=\"1\" class=\"dataframe\">\n",
       "  <thead>\n",
       "    <tr style=\"text-align: right;\">\n",
       "      <th></th>\n",
       "      <th>DD</th>\n",
       "      <th>Withdrawals</th>\n",
       "      <th>Deposits</th>\n",
       "      <th>Branch Area in sqft</th>\n",
       "      <th>avg daily walkins</th>\n",
       "      <th>freq</th>\n",
       "    </tr>\n",
       "    <tr>\n",
       "      <th>group</th>\n",
       "      <th></th>\n",
       "      <th></th>\n",
       "      <th></th>\n",
       "      <th></th>\n",
       "      <th></th>\n",
       "      <th></th>\n",
       "    </tr>\n",
       "  </thead>\n",
       "  <tbody>\n",
       "    <tr>\n",
       "      <th>0</th>\n",
       "      <td>292.931298</td>\n",
       "      <td>98.343511</td>\n",
       "      <td>75.129771</td>\n",
       "      <td>3118.931298</td>\n",
       "      <td>596.770992</td>\n",
       "      <td>131</td>\n",
       "    </tr>\n",
       "    <tr>\n",
       "      <th>1</th>\n",
       "      <td>185.542056</td>\n",
       "      <td>187.841121</td>\n",
       "      <td>55.887850</td>\n",
       "      <td>2992.149533</td>\n",
       "      <td>564.214953</td>\n",
       "      <td>107</td>\n",
       "    </tr>\n",
       "    <tr>\n",
       "      <th>2</th>\n",
       "      <td>193.418605</td>\n",
       "      <td>178.372093</td>\n",
       "      <td>113.023256</td>\n",
       "      <td>3003.953488</td>\n",
       "      <td>620.174419</td>\n",
       "      <td>86</td>\n",
       "    </tr>\n",
       "    <tr>\n",
       "      <th>3</th>\n",
       "      <td>287.160714</td>\n",
       "      <td>195.473214</td>\n",
       "      <td>84.196429</td>\n",
       "      <td>2565.892857</td>\n",
       "      <td>700.919643</td>\n",
       "      <td>112</td>\n",
       "    </tr>\n",
       "    <tr>\n",
       "      <th>4</th>\n",
       "      <td>159.329114</td>\n",
       "      <td>93.569620</td>\n",
       "      <td>89.835443</td>\n",
       "      <td>2998.670886</td>\n",
       "      <td>479.683544</td>\n",
       "      <td>79</td>\n",
       "    </tr>\n",
       "  </tbody>\n",
       "</table>\n",
       "</div>"
      ],
      "text/plain": [
       "               DD  Withdrawals    Deposits  Branch Area in sqft  \\\n",
       "group                                                             \n",
       "0      292.931298    98.343511   75.129771          3118.931298   \n",
       "1      185.542056   187.841121   55.887850          2992.149533   \n",
       "2      193.418605   178.372093  113.023256          3003.953488   \n",
       "3      287.160714   195.473214   84.196429          2565.892857   \n",
       "4      159.329114    93.569620   89.835443          2998.670886   \n",
       "\n",
       "       avg daily walkins  freq  \n",
       "group                           \n",
       "0             596.770992   131  \n",
       "1             564.214953   107  \n",
       "2             620.174419    86  \n",
       "3             700.919643   112  \n",
       "4             479.683544    79  "
      ]
     },
     "execution_count": 25,
     "metadata": {},
     "output_type": "execute_result"
    }
   ],
   "source": [
    "clust_profile=data_df.drop(['Bank'],axis=1)\n",
    "\n",
    "clust_profile=clust_profile.groupby('group').mean()\n",
    "\n",
    "clust_profile['freq']=data_df.group.value_counts().sort_index()\n",
    "\n",
    "clust_profile"
   ]
  },
  {
   "cell_type": "code",
   "execution_count": null,
   "metadata": {},
   "outputs": [],
   "source": []
  }
 ],
 "metadata": {
  "kernelspec": {
   "display_name": "Python 3",
   "language": "python",
   "name": "python3"
  },
  "language_info": {
   "codemirror_mode": {
    "name": "ipython",
    "version": 3
   },
   "file_extension": ".py",
   "mimetype": "text/x-python",
   "name": "python",
   "nbconvert_exporter": "python",
   "pygments_lexer": "ipython3",
   "version": "3.8.8"
  }
 },
 "nbformat": 4,
 "nbformat_minor": 4
}

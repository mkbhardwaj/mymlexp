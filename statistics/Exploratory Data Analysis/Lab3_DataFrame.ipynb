{
 "cells": [
  {
   "cell_type": "markdown",
   "metadata": {},
   "source": [
    "# Statistics Introduction Applied to Data Science\n",
    "## Lab : Three\n",
    "## Data frames"
   ]
  },
  {
   "cell_type": "markdown",
   "metadata": {},
   "source": [
    "In this lab, we use import sentence to load pandas and numpy python libraries that we need to work with data frame."
   ]
  },
  {
   "cell_type": "code",
   "execution_count": 2,
   "metadata": {},
   "outputs": [],
   "source": [
    "import pandas as pd\n",
    "import numpy as np\n",
    "import os as os"
   ]
  },
  {
   "cell_type": "markdown",
   "metadata": {},
   "source": [
    "We need read_csv method to load Operations.csv data set on df_operations data frame. The path depend where you have stored csv files."
   ]
  },
  {
   "cell_type": "code",
   "execution_count": 3,
   "metadata": {},
   "outputs": [],
   "source": [
    "df_operations = pd.read_csv('Operations.csv')"
   ]
  },
  {
   "cell_type": "code",
   "execution_count": 4,
   "metadata": {},
   "outputs": [
    {
     "data": {
      "text/plain": [
       "19"
      ]
     },
     "execution_count": 4,
     "metadata": {},
     "output_type": "execute_result"
    }
   ],
   "source": [
    "df_operations['Customer'].count()"
   ]
  },
  {
   "cell_type": "markdown",
   "metadata": {},
   "source": [
    "By default, head() method return the five first rows from data frame."
   ]
  },
  {
   "cell_type": "code",
   "execution_count": 5,
   "metadata": {},
   "outputs": [
    {
     "data": {
      "text/html": [
       "<div>\n",
       "<style scoped>\n",
       "    .dataframe tbody tr th:only-of-type {\n",
       "        vertical-align: middle;\n",
       "    }\n",
       "\n",
       "    .dataframe tbody tr th {\n",
       "        vertical-align: top;\n",
       "    }\n",
       "\n",
       "    .dataframe thead th {\n",
       "        text-align: right;\n",
       "    }\n",
       "</style>\n",
       "<table border=\"1\" class=\"dataframe\">\n",
       "  <thead>\n",
       "    <tr style=\"text-align: right;\">\n",
       "      <th></th>\n",
       "      <th>Customer</th>\n",
       "      <th>Customer Type</th>\n",
       "      <th>Payment Type</th>\n",
       "      <th>Purchases</th>\n",
       "      <th>Sales</th>\n",
       "      <th>Refunds</th>\n",
       "      <th>Country</th>\n",
       "      <th>Continent</th>\n",
       "    </tr>\n",
       "  </thead>\n",
       "  <tbody>\n",
       "    <tr>\n",
       "      <th>0</th>\n",
       "      <td>10000</td>\n",
       "      <td>Person</td>\n",
       "      <td>Cash</td>\n",
       "      <td>120000</td>\n",
       "      <td>150000</td>\n",
       "      <td>240</td>\n",
       "      <td>Canada</td>\n",
       "      <td>America</td>\n",
       "    </tr>\n",
       "    <tr>\n",
       "      <th>1</th>\n",
       "      <td>10001</td>\n",
       "      <td>Company</td>\n",
       "      <td>Cash</td>\n",
       "      <td>521400</td>\n",
       "      <td>651750</td>\n",
       "      <td>1043</td>\n",
       "      <td>Japan</td>\n",
       "      <td>Asia</td>\n",
       "    </tr>\n",
       "    <tr>\n",
       "      <th>2</th>\n",
       "      <td>10002</td>\n",
       "      <td>Company</td>\n",
       "      <td>Credit Card</td>\n",
       "      <td>451000</td>\n",
       "      <td>563750</td>\n",
       "      <td>902</td>\n",
       "      <td>Mexico</td>\n",
       "      <td>America</td>\n",
       "    </tr>\n",
       "    <tr>\n",
       "      <th>3</th>\n",
       "      <td>10003</td>\n",
       "      <td>Company</td>\n",
       "      <td>Transfer</td>\n",
       "      <td>565000</td>\n",
       "      <td>706250</td>\n",
       "      <td>1130</td>\n",
       "      <td>Spain</td>\n",
       "      <td>Europe</td>\n",
       "    </tr>\n",
       "    <tr>\n",
       "      <th>4</th>\n",
       "      <td>10004</td>\n",
       "      <td>Person</td>\n",
       "      <td>Transfer</td>\n",
       "      <td>512300</td>\n",
       "      <td>640375</td>\n",
       "      <td>1024</td>\n",
       "      <td>Argentina</td>\n",
       "      <td>America</td>\n",
       "    </tr>\n",
       "  </tbody>\n",
       "</table>\n",
       "</div>"
      ],
      "text/plain": [
       "   Customer Customer Type Payment Type  Purchases   Sales  Refunds    Country  \\\n",
       "0     10000        Person         Cash     120000  150000      240     Canada   \n",
       "1     10001       Company         Cash     521400  651750     1043      Japan   \n",
       "2     10002       Company  Credit Card     451000  563750      902     Mexico   \n",
       "3     10003       Company     Transfer     565000  706250     1130      Spain   \n",
       "4     10004        Person     Transfer     512300  640375     1024  Argentina   \n",
       "\n",
       "  Continent  \n",
       "0   America  \n",
       "1      Asia  \n",
       "2   America  \n",
       "3    Europe  \n",
       "4   America  "
      ]
     },
     "execution_count": 5,
     "metadata": {},
     "output_type": "execute_result"
    }
   ],
   "source": [
    "df_operations.head()"
   ]
  },
  {
   "cell_type": "markdown",
   "metadata": {},
   "source": [
    "We can change default value, indicating the number of rows between parentheses."
   ]
  },
  {
   "cell_type": "code",
   "execution_count": 6,
   "metadata": {},
   "outputs": [
    {
     "data": {
      "text/html": [
       "<div>\n",
       "<style scoped>\n",
       "    .dataframe tbody tr th:only-of-type {\n",
       "        vertical-align: middle;\n",
       "    }\n",
       "\n",
       "    .dataframe tbody tr th {\n",
       "        vertical-align: top;\n",
       "    }\n",
       "\n",
       "    .dataframe thead th {\n",
       "        text-align: right;\n",
       "    }\n",
       "</style>\n",
       "<table border=\"1\" class=\"dataframe\">\n",
       "  <thead>\n",
       "    <tr style=\"text-align: right;\">\n",
       "      <th></th>\n",
       "      <th>Customer</th>\n",
       "      <th>Customer Type</th>\n",
       "      <th>Payment Type</th>\n",
       "      <th>Purchases</th>\n",
       "      <th>Sales</th>\n",
       "      <th>Refunds</th>\n",
       "      <th>Country</th>\n",
       "      <th>Continent</th>\n",
       "    </tr>\n",
       "  </thead>\n",
       "  <tbody>\n",
       "    <tr>\n",
       "      <th>0</th>\n",
       "      <td>10000</td>\n",
       "      <td>Person</td>\n",
       "      <td>Cash</td>\n",
       "      <td>120000</td>\n",
       "      <td>150000</td>\n",
       "      <td>240</td>\n",
       "      <td>Canada</td>\n",
       "      <td>America</td>\n",
       "    </tr>\n",
       "    <tr>\n",
       "      <th>1</th>\n",
       "      <td>10001</td>\n",
       "      <td>Company</td>\n",
       "      <td>Cash</td>\n",
       "      <td>521400</td>\n",
       "      <td>651750</td>\n",
       "      <td>1043</td>\n",
       "      <td>Japan</td>\n",
       "      <td>Asia</td>\n",
       "    </tr>\n",
       "    <tr>\n",
       "      <th>2</th>\n",
       "      <td>10002</td>\n",
       "      <td>Company</td>\n",
       "      <td>Credit Card</td>\n",
       "      <td>451000</td>\n",
       "      <td>563750</td>\n",
       "      <td>902</td>\n",
       "      <td>Mexico</td>\n",
       "      <td>America</td>\n",
       "    </tr>\n",
       "  </tbody>\n",
       "</table>\n",
       "</div>"
      ],
      "text/plain": [
       "   Customer Customer Type Payment Type  Purchases   Sales  Refunds Country  \\\n",
       "0     10000        Person         Cash     120000  150000      240  Canada   \n",
       "1     10001       Company         Cash     521400  651750     1043   Japan   \n",
       "2     10002       Company  Credit Card     451000  563750      902  Mexico   \n",
       "\n",
       "  Continent  \n",
       "0   America  \n",
       "1      Asia  \n",
       "2   America  "
      ]
     },
     "execution_count": 6,
     "metadata": {},
     "output_type": "execute_result"
    }
   ],
   "source": [
    "df_operations.head(3)"
   ]
  },
  {
   "cell_type": "markdown",
   "metadata": {},
   "source": [
    "With info() method get basic information from data frame."
   ]
  },
  {
   "cell_type": "code",
   "execution_count": 7,
   "metadata": {},
   "outputs": [
    {
     "name": "stdout",
     "output_type": "stream",
     "text": [
      "<class 'pandas.core.frame.DataFrame'>\n",
      "RangeIndex: 19 entries, 0 to 18\n",
      "Data columns (total 8 columns):\n",
      " #   Column         Non-Null Count  Dtype \n",
      "---  ------         --------------  ----- \n",
      " 0   Customer       19 non-null     int64 \n",
      " 1   Customer Type  19 non-null     object\n",
      " 2   Payment Type   19 non-null     object\n",
      " 3   Purchases      19 non-null     int64 \n",
      " 4   Sales          19 non-null     int64 \n",
      " 5   Refunds        19 non-null     int64 \n",
      " 6   Country        19 non-null     object\n",
      " 7   Continent      19 non-null     object\n",
      "dtypes: int64(4), object(4)\n",
      "memory usage: 1.3+ KB\n"
     ]
    }
   ],
   "source": [
    "df_operations.info()"
   ]
  },
  {
   "cell_type": "markdown",
   "metadata": {},
   "source": [
    "With dtypes we can see data type from each data frame column."
   ]
  },
  {
   "cell_type": "code",
   "execution_count": 8,
   "metadata": {},
   "outputs": [
    {
     "data": {
      "text/plain": [
       "Customer          int64\n",
       "Customer Type    object\n",
       "Payment Type     object\n",
       "Purchases         int64\n",
       "Sales             int64\n",
       "Refunds           int64\n",
       "Country          object\n",
       "Continent        object\n",
       "dtype: object"
      ]
     },
     "execution_count": 8,
     "metadata": {},
     "output_type": "execute_result"
    }
   ],
   "source": [
    "df_operations.dtypes"
   ]
  },
  {
   "cell_type": "markdown",
   "metadata": {},
   "source": [
    "Query data frame columns names."
   ]
  },
  {
   "cell_type": "code",
   "execution_count": 9,
   "metadata": {},
   "outputs": [
    {
     "data": {
      "text/plain": [
       "array(['Customer', 'Customer Type', 'Payment Type', 'Purchases', 'Sales',\n",
       "       'Refunds', 'Country', 'Continent'], dtype=object)"
      ]
     },
     "execution_count": 9,
     "metadata": {},
     "output_type": "execute_result"
    }
   ],
   "source": [
    "df_operations.columns.values"
   ]
  },
  {
   "cell_type": "markdown",
   "metadata": {},
   "source": [
    "Query data frame rows index."
   ]
  },
  {
   "cell_type": "code",
   "execution_count": 10,
   "metadata": {},
   "outputs": [
    {
     "data": {
      "text/plain": [
       "array([ 0,  1,  2,  3,  4,  5,  6,  7,  8,  9, 10, 11, 12, 13, 14, 15, 16,\n",
       "       17, 18])"
      ]
     },
     "execution_count": 10,
     "metadata": {},
     "output_type": "execute_result"
    }
   ],
   "source": [
    "df_operations.index.values"
   ]
  },
  {
   "cell_type": "markdown",
   "metadata": {},
   "source": [
    "With size method we can see how many data are there in the data frame."
   ]
  },
  {
   "cell_type": "code",
   "execution_count": 12,
   "metadata": {},
   "outputs": [
    {
     "data": {
      "text/plain": [
       "152"
      ]
     },
     "execution_count": 12,
     "metadata": {},
     "output_type": "execute_result"
    }
   ],
   "source": [
    "df_operations.size"
   ]
  },
  {
   "cell_type": "markdown",
   "metadata": {},
   "source": [
    "The shape method return the tuple (rows, columns) from data frame."
   ]
  },
  {
   "cell_type": "code",
   "execution_count": 13,
   "metadata": {},
   "outputs": [
    {
     "data": {
      "text/plain": [
       "(19, 8)"
      ]
     },
     "execution_count": 13,
     "metadata": {},
     "output_type": "execute_result"
    }
   ],
   "source": [
    "df_operations.shape"
   ]
  },
  {
   "cell_type": "markdown",
   "metadata": {},
   "source": [
    "Unlike the head() method, the tail() method return by default, the last five rows from data frame.\n",
    "Of course, you can change this."
   ]
  },
  {
   "cell_type": "code",
   "execution_count": 14,
   "metadata": {},
   "outputs": [
    {
     "data": {
      "text/html": [
       "<div>\n",
       "<style scoped>\n",
       "    .dataframe tbody tr th:only-of-type {\n",
       "        vertical-align: middle;\n",
       "    }\n",
       "\n",
       "    .dataframe tbody tr th {\n",
       "        vertical-align: top;\n",
       "    }\n",
       "\n",
       "    .dataframe thead th {\n",
       "        text-align: right;\n",
       "    }\n",
       "</style>\n",
       "<table border=\"1\" class=\"dataframe\">\n",
       "  <thead>\n",
       "    <tr style=\"text-align: right;\">\n",
       "      <th></th>\n",
       "      <th>Customer</th>\n",
       "      <th>Customer Type</th>\n",
       "      <th>Payment Type</th>\n",
       "      <th>Purchases</th>\n",
       "      <th>Sales</th>\n",
       "      <th>Refunds</th>\n",
       "      <th>Country</th>\n",
       "      <th>Continent</th>\n",
       "    </tr>\n",
       "  </thead>\n",
       "  <tbody>\n",
       "    <tr>\n",
       "      <th>14</th>\n",
       "      <td>10014</td>\n",
       "      <td>Company</td>\n",
       "      <td>Transfer</td>\n",
       "      <td>241010</td>\n",
       "      <td>301262</td>\n",
       "      <td>480</td>\n",
       "      <td>EEUU</td>\n",
       "      <td>America</td>\n",
       "    </tr>\n",
       "    <tr>\n",
       "      <th>15</th>\n",
       "      <td>10015</td>\n",
       "      <td>Company</td>\n",
       "      <td>Credit Card</td>\n",
       "      <td>560122</td>\n",
       "      <td>700152</td>\n",
       "      <td>1120</td>\n",
       "      <td>Mexico</td>\n",
       "      <td>America</td>\n",
       "    </tr>\n",
       "    <tr>\n",
       "      <th>16</th>\n",
       "      <td>10016</td>\n",
       "      <td>Person</td>\n",
       "      <td>Credit Card</td>\n",
       "      <td>362200</td>\n",
       "      <td>452750</td>\n",
       "      <td>0</td>\n",
       "      <td>Canada</td>\n",
       "      <td>America</td>\n",
       "    </tr>\n",
       "    <tr>\n",
       "      <th>17</th>\n",
       "      <td>10017</td>\n",
       "      <td>Person</td>\n",
       "      <td>Cash</td>\n",
       "      <td>452230</td>\n",
       "      <td>565287</td>\n",
       "      <td>903</td>\n",
       "      <td>Japan</td>\n",
       "      <td>Asia</td>\n",
       "    </tr>\n",
       "    <tr>\n",
       "      <th>18</th>\n",
       "      <td>10018</td>\n",
       "      <td>Company</td>\n",
       "      <td>Cash</td>\n",
       "      <td>521000</td>\n",
       "      <td>651250</td>\n",
       "      <td>1042</td>\n",
       "      <td>Spain</td>\n",
       "      <td>Europe</td>\n",
       "    </tr>\n",
       "  </tbody>\n",
       "</table>\n",
       "</div>"
      ],
      "text/plain": [
       "    Customer Customer Type Payment Type  Purchases   Sales  Refunds Country  \\\n",
       "14     10014       Company     Transfer     241010  301262      480    EEUU   \n",
       "15     10015       Company  Credit Card     560122  700152     1120  Mexico   \n",
       "16     10016        Person  Credit Card     362200  452750        0  Canada   \n",
       "17     10017        Person         Cash     452230  565287      903   Japan   \n",
       "18     10018       Company         Cash     521000  651250     1042   Spain   \n",
       "\n",
       "   Continent  \n",
       "14   America  \n",
       "15   America  \n",
       "16   America  \n",
       "17      Asia  \n",
       "18    Europe  "
      ]
     },
     "execution_count": 14,
     "metadata": {},
     "output_type": "execute_result"
    }
   ],
   "source": [
    "df_operations.tail()"
   ]
  },
  {
   "cell_type": "code",
   "execution_count": 15,
   "metadata": {},
   "outputs": [
    {
     "data": {
      "text/html": [
       "<div>\n",
       "<style scoped>\n",
       "    .dataframe tbody tr th:only-of-type {\n",
       "        vertical-align: middle;\n",
       "    }\n",
       "\n",
       "    .dataframe tbody tr th {\n",
       "        vertical-align: top;\n",
       "    }\n",
       "\n",
       "    .dataframe thead th {\n",
       "        text-align: right;\n",
       "    }\n",
       "</style>\n",
       "<table border=\"1\" class=\"dataframe\">\n",
       "  <thead>\n",
       "    <tr style=\"text-align: right;\">\n",
       "      <th></th>\n",
       "      <th>Customer</th>\n",
       "      <th>Customer Type</th>\n",
       "      <th>Payment Type</th>\n",
       "      <th>Purchases</th>\n",
       "      <th>Sales</th>\n",
       "      <th>Refunds</th>\n",
       "      <th>Country</th>\n",
       "      <th>Continent</th>\n",
       "    </tr>\n",
       "  </thead>\n",
       "  <tbody>\n",
       "    <tr>\n",
       "      <th>17</th>\n",
       "      <td>10017</td>\n",
       "      <td>Person</td>\n",
       "      <td>Cash</td>\n",
       "      <td>452230</td>\n",
       "      <td>565287</td>\n",
       "      <td>903</td>\n",
       "      <td>Japan</td>\n",
       "      <td>Asia</td>\n",
       "    </tr>\n",
       "    <tr>\n",
       "      <th>18</th>\n",
       "      <td>10018</td>\n",
       "      <td>Company</td>\n",
       "      <td>Cash</td>\n",
       "      <td>521000</td>\n",
       "      <td>651250</td>\n",
       "      <td>1042</td>\n",
       "      <td>Spain</td>\n",
       "      <td>Europe</td>\n",
       "    </tr>\n",
       "  </tbody>\n",
       "</table>\n",
       "</div>"
      ],
      "text/plain": [
       "    Customer Customer Type Payment Type  Purchases   Sales  Refunds Country  \\\n",
       "17     10017        Person         Cash     452230  565287      903   Japan   \n",
       "18     10018       Company         Cash     521000  651250     1042   Spain   \n",
       "\n",
       "   Continent  \n",
       "17      Asia  \n",
       "18    Europe  "
      ]
     },
     "execution_count": 15,
     "metadata": {},
     "output_type": "execute_result"
    }
   ],
   "source": [
    "df_operations.tail(2)"
   ]
  },
  {
   "cell_type": "markdown",
   "metadata": {},
   "source": [
    "## How to get slices from data frame."
   ]
  },
  {
   "cell_type": "markdown",
   "metadata": {},
   "source": [
    "Get only America operations."
   ]
  },
  {
   "cell_type": "code",
   "execution_count": 16,
   "metadata": {},
   "outputs": [
    {
     "data": {
      "text/html": [
       "<div>\n",
       "<style scoped>\n",
       "    .dataframe tbody tr th:only-of-type {\n",
       "        vertical-align: middle;\n",
       "    }\n",
       "\n",
       "    .dataframe tbody tr th {\n",
       "        vertical-align: top;\n",
       "    }\n",
       "\n",
       "    .dataframe thead th {\n",
       "        text-align: right;\n",
       "    }\n",
       "</style>\n",
       "<table border=\"1\" class=\"dataframe\">\n",
       "  <thead>\n",
       "    <tr style=\"text-align: right;\">\n",
       "      <th></th>\n",
       "      <th>Customer</th>\n",
       "      <th>Customer Type</th>\n",
       "      <th>Payment Type</th>\n",
       "      <th>Purchases</th>\n",
       "      <th>Sales</th>\n",
       "      <th>Refunds</th>\n",
       "      <th>Country</th>\n",
       "      <th>Continent</th>\n",
       "    </tr>\n",
       "  </thead>\n",
       "  <tbody>\n",
       "    <tr>\n",
       "      <th>0</th>\n",
       "      <td>10000</td>\n",
       "      <td>Person</td>\n",
       "      <td>Cash</td>\n",
       "      <td>120000</td>\n",
       "      <td>150000</td>\n",
       "      <td>240</td>\n",
       "      <td>Canada</td>\n",
       "      <td>America</td>\n",
       "    </tr>\n",
       "    <tr>\n",
       "      <th>2</th>\n",
       "      <td>10002</td>\n",
       "      <td>Company</td>\n",
       "      <td>Credit Card</td>\n",
       "      <td>451000</td>\n",
       "      <td>563750</td>\n",
       "      <td>902</td>\n",
       "      <td>Mexico</td>\n",
       "      <td>America</td>\n",
       "    </tr>\n",
       "    <tr>\n",
       "      <th>4</th>\n",
       "      <td>10004</td>\n",
       "      <td>Person</td>\n",
       "      <td>Transfer</td>\n",
       "      <td>512300</td>\n",
       "      <td>640375</td>\n",
       "      <td>1024</td>\n",
       "      <td>Argentina</td>\n",
       "      <td>America</td>\n",
       "    </tr>\n",
       "    <tr>\n",
       "      <th>5</th>\n",
       "      <td>10005</td>\n",
       "      <td>Person</td>\n",
       "      <td>Transfer</td>\n",
       "      <td>415500</td>\n",
       "      <td>519375</td>\n",
       "      <td>0</td>\n",
       "      <td>Canada</td>\n",
       "      <td>America</td>\n",
       "    </tr>\n",
       "    <tr>\n",
       "      <th>6</th>\n",
       "      <td>10006</td>\n",
       "      <td>Company</td>\n",
       "      <td>Credit Card</td>\n",
       "      <td>696300</td>\n",
       "      <td>870375</td>\n",
       "      <td>1392</td>\n",
       "      <td>EEUU</td>\n",
       "      <td>America</td>\n",
       "    </tr>\n",
       "  </tbody>\n",
       "</table>\n",
       "</div>"
      ],
      "text/plain": [
       "   Customer Customer Type Payment Type  Purchases   Sales  Refunds    Country  \\\n",
       "0     10000        Person         Cash     120000  150000      240     Canada   \n",
       "2     10002       Company  Credit Card     451000  563750      902     Mexico   \n",
       "4     10004        Person     Transfer     512300  640375     1024  Argentina   \n",
       "5     10005        Person     Transfer     415500  519375        0     Canada   \n",
       "6     10006       Company  Credit Card     696300  870375     1392       EEUU   \n",
       "\n",
       "  Continent  \n",
       "0   America  \n",
       "2   America  \n",
       "4   America  \n",
       "5   America  \n",
       "6   America  "
      ]
     },
     "execution_count": 16,
     "metadata": {},
     "output_type": "execute_result"
    }
   ],
   "source": [
    "df_operations [(df_operations['Continent'] == 'America')].head()"
   ]
  },
  {
   "cell_type": "markdown",
   "metadata": {},
   "source": [
    "Get America operations and person customer type."
   ]
  },
  {
   "cell_type": "code",
   "execution_count": 17,
   "metadata": {},
   "outputs": [
    {
     "data": {
      "text/html": [
       "<div>\n",
       "<style scoped>\n",
       "    .dataframe tbody tr th:only-of-type {\n",
       "        vertical-align: middle;\n",
       "    }\n",
       "\n",
       "    .dataframe tbody tr th {\n",
       "        vertical-align: top;\n",
       "    }\n",
       "\n",
       "    .dataframe thead th {\n",
       "        text-align: right;\n",
       "    }\n",
       "</style>\n",
       "<table border=\"1\" class=\"dataframe\">\n",
       "  <thead>\n",
       "    <tr style=\"text-align: right;\">\n",
       "      <th></th>\n",
       "      <th>Customer</th>\n",
       "      <th>Customer Type</th>\n",
       "      <th>Payment Type</th>\n",
       "      <th>Purchases</th>\n",
       "      <th>Sales</th>\n",
       "      <th>Refunds</th>\n",
       "      <th>Country</th>\n",
       "      <th>Continent</th>\n",
       "    </tr>\n",
       "  </thead>\n",
       "  <tbody>\n",
       "    <tr>\n",
       "      <th>0</th>\n",
       "      <td>10000</td>\n",
       "      <td>Person</td>\n",
       "      <td>Cash</td>\n",
       "      <td>120000</td>\n",
       "      <td>150000</td>\n",
       "      <td>240</td>\n",
       "      <td>Canada</td>\n",
       "      <td>America</td>\n",
       "    </tr>\n",
       "    <tr>\n",
       "      <th>4</th>\n",
       "      <td>10004</td>\n",
       "      <td>Person</td>\n",
       "      <td>Transfer</td>\n",
       "      <td>512300</td>\n",
       "      <td>640375</td>\n",
       "      <td>1024</td>\n",
       "      <td>Argentina</td>\n",
       "      <td>America</td>\n",
       "    </tr>\n",
       "    <tr>\n",
       "      <th>5</th>\n",
       "      <td>10005</td>\n",
       "      <td>Person</td>\n",
       "      <td>Transfer</td>\n",
       "      <td>415500</td>\n",
       "      <td>519375</td>\n",
       "      <td>0</td>\n",
       "      <td>Canada</td>\n",
       "      <td>America</td>\n",
       "    </tr>\n",
       "    <tr>\n",
       "      <th>7</th>\n",
       "      <td>10007</td>\n",
       "      <td>Person</td>\n",
       "      <td>Cash</td>\n",
       "      <td>741000</td>\n",
       "      <td>926250</td>\n",
       "      <td>1482</td>\n",
       "      <td>Chile</td>\n",
       "      <td>America</td>\n",
       "    </tr>\n",
       "    <tr>\n",
       "      <th>11</th>\n",
       "      <td>10011</td>\n",
       "      <td>Person</td>\n",
       "      <td>Transfer</td>\n",
       "      <td>520033</td>\n",
       "      <td>650041</td>\n",
       "      <td>1041</td>\n",
       "      <td>EEUU</td>\n",
       "      <td>America</td>\n",
       "    </tr>\n",
       "  </tbody>\n",
       "</table>\n",
       "</div>"
      ],
      "text/plain": [
       "    Customer Customer Type Payment Type  Purchases   Sales  Refunds  \\\n",
       "0      10000        Person         Cash     120000  150000      240   \n",
       "4      10004        Person     Transfer     512300  640375     1024   \n",
       "5      10005        Person     Transfer     415500  519375        0   \n",
       "7      10007        Person         Cash     741000  926250     1482   \n",
       "11     10011        Person     Transfer     520033  650041     1041   \n",
       "\n",
       "      Country Continent  \n",
       "0      Canada   America  \n",
       "4   Argentina   America  \n",
       "5      Canada   America  \n",
       "7       Chile   America  \n",
       "11       EEUU   America  "
      ]
     },
     "execution_count": 17,
     "metadata": {},
     "output_type": "execute_result"
    }
   ],
   "source": [
    "df_operations [(df_operations['Continent'] == 'America') & (df_operations['Customer Type'] == 'Person')].head()"
   ]
  },
  {
   "cell_type": "markdown",
   "metadata": {},
   "source": [
    "Get only sales and country columns."
   ]
  },
  {
   "cell_type": "code",
   "execution_count": 18,
   "metadata": {},
   "outputs": [
    {
     "data": {
      "text/html": [
       "<div>\n",
       "<style scoped>\n",
       "    .dataframe tbody tr th:only-of-type {\n",
       "        vertical-align: middle;\n",
       "    }\n",
       "\n",
       "    .dataframe tbody tr th {\n",
       "        vertical-align: top;\n",
       "    }\n",
       "\n",
       "    .dataframe thead th {\n",
       "        text-align: right;\n",
       "    }\n",
       "</style>\n",
       "<table border=\"1\" class=\"dataframe\">\n",
       "  <thead>\n",
       "    <tr style=\"text-align: right;\">\n",
       "      <th></th>\n",
       "      <th>Sales</th>\n",
       "      <th>Country</th>\n",
       "    </tr>\n",
       "  </thead>\n",
       "  <tbody>\n",
       "    <tr>\n",
       "      <th>0</th>\n",
       "      <td>150000</td>\n",
       "      <td>Canada</td>\n",
       "    </tr>\n",
       "    <tr>\n",
       "      <th>1</th>\n",
       "      <td>651750</td>\n",
       "      <td>Japan</td>\n",
       "    </tr>\n",
       "    <tr>\n",
       "      <th>2</th>\n",
       "      <td>563750</td>\n",
       "      <td>Mexico</td>\n",
       "    </tr>\n",
       "    <tr>\n",
       "      <th>3</th>\n",
       "      <td>706250</td>\n",
       "      <td>Spain</td>\n",
       "    </tr>\n",
       "    <tr>\n",
       "      <th>4</th>\n",
       "      <td>640375</td>\n",
       "      <td>Argentina</td>\n",
       "    </tr>\n",
       "  </tbody>\n",
       "</table>\n",
       "</div>"
      ],
      "text/plain": [
       "    Sales    Country\n",
       "0  150000     Canada\n",
       "1  651750      Japan\n",
       "2  563750     Mexico\n",
       "3  706250      Spain\n",
       "4  640375  Argentina"
      ]
     },
     "execution_count": 18,
     "metadata": {},
     "output_type": "execute_result"
    }
   ],
   "source": [
    "df_operations[['Sales','Country']].head()"
   ]
  },
  {
   "cell_type": "markdown",
   "metadata": {},
   "source": [
    "## LOC"
   ]
  },
  {
   "cell_type": "markdown",
   "metadata": {},
   "source": [
    "LOC is primarily label based; when two arguments are used. You use column headers and row indexes to select the data you want. loc can also take an integer as a row or column number.\n",
    "In this example, we gets sales and country columns of first row. Remember, the rows index begin with zero."
   ]
  },
  {
   "cell_type": "code",
   "execution_count": 19,
   "metadata": {},
   "outputs": [
    {
     "data": {
      "text/plain": [
       "Sales      150000\n",
       "Country    Canada\n",
       "Name: 0, dtype: object"
      ]
     },
     "execution_count": 19,
     "metadata": {},
     "output_type": "execute_result"
    }
   ],
   "source": [
    "df_operations.loc[0,['Sales','Country']]"
   ]
  },
  {
   "cell_type": "markdown",
   "metadata": {},
   "source": [
    "Look at the data types is changed. The result is not a dataframe but a series type."
   ]
  },
  {
   "cell_type": "code",
   "execution_count": 20,
   "metadata": {},
   "outputs": [
    {
     "data": {
      "text/plain": [
       "pandas.core.series.Series"
      ]
     },
     "execution_count": 20,
     "metadata": {},
     "output_type": "execute_result"
    }
   ],
   "source": [
    "type(df_operations.loc[0,['Sales','Country']])"
   ]
  },
  {
   "cell_type": "markdown",
   "metadata": {},
   "source": [
    "Another way to do and get a data frame."
   ]
  },
  {
   "cell_type": "code",
   "execution_count": 21,
   "metadata": {},
   "outputs": [
    {
     "data": {
      "text/html": [
       "<div>\n",
       "<style scoped>\n",
       "    .dataframe tbody tr th:only-of-type {\n",
       "        vertical-align: middle;\n",
       "    }\n",
       "\n",
       "    .dataframe tbody tr th {\n",
       "        vertical-align: top;\n",
       "    }\n",
       "\n",
       "    .dataframe thead th {\n",
       "        text-align: right;\n",
       "    }\n",
       "</style>\n",
       "<table border=\"1\" class=\"dataframe\">\n",
       "  <thead>\n",
       "    <tr style=\"text-align: right;\">\n",
       "      <th></th>\n",
       "      <th>Sales</th>\n",
       "      <th>Country</th>\n",
       "    </tr>\n",
       "  </thead>\n",
       "  <tbody>\n",
       "    <tr>\n",
       "      <th>0</th>\n",
       "      <td>150000</td>\n",
       "      <td>Canada</td>\n",
       "    </tr>\n",
       "  </tbody>\n",
       "</table>\n",
       "</div>"
      ],
      "text/plain": [
       "    Sales Country\n",
       "0  150000  Canada"
      ]
     },
     "execution_count": 21,
     "metadata": {},
     "output_type": "execute_result"
    }
   ],
   "source": [
    "df_operations.loc[0:0,['Sales','Country']]"
   ]
  },
  {
   "cell_type": "code",
   "execution_count": 22,
   "metadata": {},
   "outputs": [
    {
     "data": {
      "text/plain": [
       "pandas.core.frame.DataFrame"
      ]
     },
     "execution_count": 22,
     "metadata": {},
     "output_type": "execute_result"
    }
   ],
   "source": [
    "type(df_operations.loc[0:0,['Sales','Country']])"
   ]
  },
  {
   "cell_type": "code",
   "execution_count": 23,
   "metadata": {},
   "outputs": [
    {
     "data": {
      "text/html": [
       "<div>\n",
       "<style scoped>\n",
       "    .dataframe tbody tr th:only-of-type {\n",
       "        vertical-align: middle;\n",
       "    }\n",
       "\n",
       "    .dataframe tbody tr th {\n",
       "        vertical-align: top;\n",
       "    }\n",
       "\n",
       "    .dataframe thead th {\n",
       "        text-align: right;\n",
       "    }\n",
       "</style>\n",
       "<table border=\"1\" class=\"dataframe\">\n",
       "  <thead>\n",
       "    <tr style=\"text-align: right;\">\n",
       "      <th></th>\n",
       "      <th>Sales</th>\n",
       "      <th>Country</th>\n",
       "    </tr>\n",
       "  </thead>\n",
       "  <tbody>\n",
       "    <tr>\n",
       "      <th>1</th>\n",
       "      <td>651750</td>\n",
       "      <td>Japan</td>\n",
       "    </tr>\n",
       "    <tr>\n",
       "      <th>2</th>\n",
       "      <td>563750</td>\n",
       "      <td>Mexico</td>\n",
       "    </tr>\n",
       "  </tbody>\n",
       "</table>\n",
       "</div>"
      ],
      "text/plain": [
       "    Sales Country\n",
       "1  651750   Japan\n",
       "2  563750  Mexico"
      ]
     },
     "execution_count": 23,
     "metadata": {},
     "output_type": "execute_result"
    }
   ],
   "source": [
    "df_operations.loc[1:2,['Sales','Country']]"
   ]
  },
  {
   "cell_type": "markdown",
   "metadata": {},
   "source": [
    "## ILOC"
   ]
  },
  {
   "cell_type": "markdown",
   "metadata": {},
   "source": [
    "iloc is integer-based. You use column numbers and row numbers to get rows or columns at particular positions in the data frame.\n",
    "Below, the code to get the rows one and two from sales and country columns."
   ]
  },
  {
   "cell_type": "code",
   "execution_count": 24,
   "metadata": {},
   "outputs": [
    {
     "data": {
      "text/html": [
       "<div>\n",
       "<style scoped>\n",
       "    .dataframe tbody tr th:only-of-type {\n",
       "        vertical-align: middle;\n",
       "    }\n",
       "\n",
       "    .dataframe tbody tr th {\n",
       "        vertical-align: top;\n",
       "    }\n",
       "\n",
       "    .dataframe thead th {\n",
       "        text-align: right;\n",
       "    }\n",
       "</style>\n",
       "<table border=\"1\" class=\"dataframe\">\n",
       "  <thead>\n",
       "    <tr style=\"text-align: right;\">\n",
       "      <th></th>\n",
       "      <th>Sales</th>\n",
       "      <th>Refunds</th>\n",
       "      <th>Country</th>\n",
       "    </tr>\n",
       "  </thead>\n",
       "  <tbody>\n",
       "    <tr>\n",
       "      <th>1</th>\n",
       "      <td>651750</td>\n",
       "      <td>1043</td>\n",
       "      <td>Japan</td>\n",
       "    </tr>\n",
       "    <tr>\n",
       "      <th>2</th>\n",
       "      <td>563750</td>\n",
       "      <td>902</td>\n",
       "      <td>Mexico</td>\n",
       "    </tr>\n",
       "  </tbody>\n",
       "</table>\n",
       "</div>"
      ],
      "text/plain": [
       "    Sales  Refunds Country\n",
       "1  651750     1043   Japan\n",
       "2  563750      902  Mexico"
      ]
     },
     "execution_count": 24,
     "metadata": {},
     "output_type": "execute_result"
    }
   ],
   "source": [
    "df_operations.iloc[1:3,4:7]"
   ]
  },
  {
   "cell_type": "markdown",
   "metadata": {},
   "source": [
    "Ops, it's not good. We get refund column too. Let's to resolve it"
   ]
  },
  {
   "cell_type": "code",
   "execution_count": 25,
   "metadata": {},
   "outputs": [
    {
     "data": {
      "text/html": [
       "<div>\n",
       "<style scoped>\n",
       "    .dataframe tbody tr th:only-of-type {\n",
       "        vertical-align: middle;\n",
       "    }\n",
       "\n",
       "    .dataframe tbody tr th {\n",
       "        vertical-align: top;\n",
       "    }\n",
       "\n",
       "    .dataframe thead th {\n",
       "        text-align: right;\n",
       "    }\n",
       "</style>\n",
       "<table border=\"1\" class=\"dataframe\">\n",
       "  <thead>\n",
       "    <tr style=\"text-align: right;\">\n",
       "      <th></th>\n",
       "      <th>Sales</th>\n",
       "      <th>Country</th>\n",
       "    </tr>\n",
       "  </thead>\n",
       "  <tbody>\n",
       "    <tr>\n",
       "      <th>1</th>\n",
       "      <td>651750</td>\n",
       "      <td>Japan</td>\n",
       "    </tr>\n",
       "    <tr>\n",
       "      <th>2</th>\n",
       "      <td>563750</td>\n",
       "      <td>Mexico</td>\n",
       "    </tr>\n",
       "  </tbody>\n",
       "</table>\n",
       "</div>"
      ],
      "text/plain": [
       "    Sales Country\n",
       "1  651750   Japan\n",
       "2  563750  Mexico"
      ]
     },
     "execution_count": 25,
     "metadata": {},
     "output_type": "execute_result"
    }
   ],
   "source": [
    "df_operations.iloc[1:3,[4,6]]"
   ]
  },
  {
   "cell_type": "markdown",
   "metadata": {},
   "source": [
    "The astype method allows us to modify the data type for one or more columns separated by commas. At the beginning of the lab we see that the Customer column was imported with the int64 data type. Although it is true that it is a number, for practical purposes it is not. Rather we should work it as a categorical variable. So we modify the data type to object."
   ]
  },
  {
   "cell_type": "code",
   "execution_count": 26,
   "metadata": {},
   "outputs": [],
   "source": [
    "df_operations = df_operations.astype({'Customer': 'object'})"
   ]
  },
  {
   "cell_type": "code",
   "execution_count": 27,
   "metadata": {},
   "outputs": [
    {
     "data": {
      "text/plain": [
       "Customer         object\n",
       "Customer Type    object\n",
       "Payment Type     object\n",
       "Purchases         int64\n",
       "Sales             int64\n",
       "Refunds           int64\n",
       "Country          object\n",
       "Continent        object\n",
       "dtype: object"
      ]
     },
     "execution_count": 27,
     "metadata": {},
     "output_type": "execute_result"
    }
   ],
   "source": [
    "df_operations.dtypes"
   ]
  },
  {
   "cell_type": "markdown",
   "metadata": {},
   "source": [
    "Adding new variables to the data frame."
   ]
  },
  {
   "cell_type": "code",
   "execution_count": 36,
   "metadata": {},
   "outputs": [
    {
     "data": {
      "text/html": [
       "<div>\n",
       "<style scoped>\n",
       "    .dataframe tbody tr th:only-of-type {\n",
       "        vertical-align: middle;\n",
       "    }\n",
       "\n",
       "    .dataframe tbody tr th {\n",
       "        vertical-align: top;\n",
       "    }\n",
       "\n",
       "    .dataframe thead th {\n",
       "        text-align: right;\n",
       "    }\n",
       "</style>\n",
       "<table border=\"1\" class=\"dataframe\">\n",
       "  <thead>\n",
       "    <tr style=\"text-align: right;\">\n",
       "      <th></th>\n",
       "      <th>Customer</th>\n",
       "      <th>Customer Type</th>\n",
       "      <th>Payment Type</th>\n",
       "      <th>Purchases</th>\n",
       "      <th>Sales</th>\n",
       "      <th>Refunds</th>\n",
       "      <th>Country</th>\n",
       "      <th>Continent</th>\n",
       "      <th>Profits</th>\n",
       "    </tr>\n",
       "  </thead>\n",
       "  <tbody>\n",
       "    <tr>\n",
       "      <th>0</th>\n",
       "      <td>10000</td>\n",
       "      <td>Person</td>\n",
       "      <td>Cash</td>\n",
       "      <td>120000</td>\n",
       "      <td>150000</td>\n",
       "      <td>240</td>\n",
       "      <td>Canada</td>\n",
       "      <td>America</td>\n",
       "      <td>30000</td>\n",
       "    </tr>\n",
       "    <tr>\n",
       "      <th>1</th>\n",
       "      <td>10001</td>\n",
       "      <td>Company</td>\n",
       "      <td>Cash</td>\n",
       "      <td>521400</td>\n",
       "      <td>651750</td>\n",
       "      <td>1043</td>\n",
       "      <td>Japan</td>\n",
       "      <td>Asia</td>\n",
       "      <td>130350</td>\n",
       "    </tr>\n",
       "    <tr>\n",
       "      <th>2</th>\n",
       "      <td>10002</td>\n",
       "      <td>Company</td>\n",
       "      <td>Credit Card</td>\n",
       "      <td>451000</td>\n",
       "      <td>563750</td>\n",
       "      <td>902</td>\n",
       "      <td>Mexico</td>\n",
       "      <td>America</td>\n",
       "      <td>112750</td>\n",
       "    </tr>\n",
       "    <tr>\n",
       "      <th>3</th>\n",
       "      <td>10003</td>\n",
       "      <td>Company</td>\n",
       "      <td>Transfer</td>\n",
       "      <td>565000</td>\n",
       "      <td>706250</td>\n",
       "      <td>1130</td>\n",
       "      <td>Spain</td>\n",
       "      <td>Europe</td>\n",
       "      <td>141250</td>\n",
       "    </tr>\n",
       "    <tr>\n",
       "      <th>4</th>\n",
       "      <td>10004</td>\n",
       "      <td>Person</td>\n",
       "      <td>Transfer</td>\n",
       "      <td>512300</td>\n",
       "      <td>640375</td>\n",
       "      <td>1024</td>\n",
       "      <td>Argentina</td>\n",
       "      <td>America</td>\n",
       "      <td>128075</td>\n",
       "    </tr>\n",
       "    <tr>\n",
       "      <th>5</th>\n",
       "      <td>10005</td>\n",
       "      <td>Person</td>\n",
       "      <td>Transfer</td>\n",
       "      <td>415500</td>\n",
       "      <td>519375</td>\n",
       "      <td>0</td>\n",
       "      <td>Canada</td>\n",
       "      <td>America</td>\n",
       "      <td>103875</td>\n",
       "    </tr>\n",
       "    <tr>\n",
       "      <th>6</th>\n",
       "      <td>10006</td>\n",
       "      <td>Company</td>\n",
       "      <td>Credit Card</td>\n",
       "      <td>696300</td>\n",
       "      <td>870375</td>\n",
       "      <td>1392</td>\n",
       "      <td>EEUU</td>\n",
       "      <td>America</td>\n",
       "      <td>174075</td>\n",
       "    </tr>\n",
       "    <tr>\n",
       "      <th>7</th>\n",
       "      <td>10007</td>\n",
       "      <td>Person</td>\n",
       "      <td>Cash</td>\n",
       "      <td>741000</td>\n",
       "      <td>926250</td>\n",
       "      <td>1482</td>\n",
       "      <td>Chile</td>\n",
       "      <td>America</td>\n",
       "      <td>185250</td>\n",
       "    </tr>\n",
       "    <tr>\n",
       "      <th>8</th>\n",
       "      <td>10008</td>\n",
       "      <td>Company</td>\n",
       "      <td>Cash</td>\n",
       "      <td>541000</td>\n",
       "      <td>676250</td>\n",
       "      <td>1082</td>\n",
       "      <td>EEUU</td>\n",
       "      <td>America</td>\n",
       "      <td>135250</td>\n",
       "    </tr>\n",
       "    <tr>\n",
       "      <th>9</th>\n",
       "      <td>10009</td>\n",
       "      <td>Company</td>\n",
       "      <td>Cash</td>\n",
       "      <td>83000</td>\n",
       "      <td>103750</td>\n",
       "      <td>166</td>\n",
       "      <td>EEUU</td>\n",
       "      <td>America</td>\n",
       "      <td>20750</td>\n",
       "    </tr>\n",
       "    <tr>\n",
       "      <th>10</th>\n",
       "      <td>10010</td>\n",
       "      <td>Company</td>\n",
       "      <td>Cash</td>\n",
       "      <td>454100</td>\n",
       "      <td>567925</td>\n",
       "      <td>910</td>\n",
       "      <td>EEUU</td>\n",
       "      <td>America</td>\n",
       "      <td>113825</td>\n",
       "    </tr>\n",
       "    <tr>\n",
       "      <th>11</th>\n",
       "      <td>10011</td>\n",
       "      <td>Person</td>\n",
       "      <td>Transfer</td>\n",
       "      <td>520033</td>\n",
       "      <td>650041</td>\n",
       "      <td>1041</td>\n",
       "      <td>EEUU</td>\n",
       "      <td>America</td>\n",
       "      <td>130008</td>\n",
       "    </tr>\n",
       "    <tr>\n",
       "      <th>12</th>\n",
       "      <td>10012</td>\n",
       "      <td>Person</td>\n",
       "      <td>Credit Card</td>\n",
       "      <td>452000</td>\n",
       "      <td>565000</td>\n",
       "      <td>904</td>\n",
       "      <td>Canada</td>\n",
       "      <td>America</td>\n",
       "      <td>113000</td>\n",
       "    </tr>\n",
       "    <tr>\n",
       "      <th>13</th>\n",
       "      <td>10013</td>\n",
       "      <td>Person</td>\n",
       "      <td>Transfer</td>\n",
       "      <td>352000</td>\n",
       "      <td>440000</td>\n",
       "      <td>704</td>\n",
       "      <td>Germany</td>\n",
       "      <td>Europe</td>\n",
       "      <td>88000</td>\n",
       "    </tr>\n",
       "    <tr>\n",
       "      <th>14</th>\n",
       "      <td>10014</td>\n",
       "      <td>Company</td>\n",
       "      <td>Transfer</td>\n",
       "      <td>241010</td>\n",
       "      <td>301262</td>\n",
       "      <td>480</td>\n",
       "      <td>EEUU</td>\n",
       "      <td>America</td>\n",
       "      <td>60252</td>\n",
       "    </tr>\n",
       "    <tr>\n",
       "      <th>15</th>\n",
       "      <td>10015</td>\n",
       "      <td>Company</td>\n",
       "      <td>Credit Card</td>\n",
       "      <td>560122</td>\n",
       "      <td>700152</td>\n",
       "      <td>1120</td>\n",
       "      <td>Mexico</td>\n",
       "      <td>America</td>\n",
       "      <td>140030</td>\n",
       "    </tr>\n",
       "    <tr>\n",
       "      <th>16</th>\n",
       "      <td>10016</td>\n",
       "      <td>Person</td>\n",
       "      <td>Credit Card</td>\n",
       "      <td>362200</td>\n",
       "      <td>452750</td>\n",
       "      <td>0</td>\n",
       "      <td>Canada</td>\n",
       "      <td>America</td>\n",
       "      <td>90550</td>\n",
       "    </tr>\n",
       "    <tr>\n",
       "      <th>17</th>\n",
       "      <td>10017</td>\n",
       "      <td>Person</td>\n",
       "      <td>Cash</td>\n",
       "      <td>452230</td>\n",
       "      <td>565287</td>\n",
       "      <td>903</td>\n",
       "      <td>Japan</td>\n",
       "      <td>Asia</td>\n",
       "      <td>113057</td>\n",
       "    </tr>\n",
       "    <tr>\n",
       "      <th>18</th>\n",
       "      <td>10018</td>\n",
       "      <td>Company</td>\n",
       "      <td>Cash</td>\n",
       "      <td>521000</td>\n",
       "      <td>651250</td>\n",
       "      <td>1042</td>\n",
       "      <td>Spain</td>\n",
       "      <td>Europe</td>\n",
       "      <td>130250</td>\n",
       "    </tr>\n",
       "  </tbody>\n",
       "</table>\n",
       "</div>"
      ],
      "text/plain": [
       "   Customer Customer Type Payment Type  Purchases   Sales  Refunds    Country  \\\n",
       "0     10000        Person         Cash     120000  150000      240     Canada   \n",
       "1     10001       Company         Cash     521400  651750     1043      Japan   \n",
       "2     10002       Company  Credit Card     451000  563750      902     Mexico   \n",
       "3     10003       Company     Transfer     565000  706250     1130      Spain   \n",
       "4     10004        Person     Transfer     512300  640375     1024  Argentina   \n",
       "5     10005        Person     Transfer     415500  519375        0     Canada   \n",
       "6     10006       Company  Credit Card     696300  870375     1392       EEUU   \n",
       "7     10007        Person         Cash     741000  926250     1482      Chile   \n",
       "8     10008       Company         Cash     541000  676250     1082       EEUU   \n",
       "9     10009       Company         Cash      83000  103750      166       EEUU   \n",
       "10    10010       Company         Cash     454100  567925      910       EEUU   \n",
       "11    10011        Person     Transfer     520033  650041     1041       EEUU   \n",
       "12    10012        Person  Credit Card     452000  565000      904     Canada   \n",
       "13    10013        Person     Transfer     352000  440000      704    Germany   \n",
       "14    10014       Company     Transfer     241010  301262      480       EEUU   \n",
       "15    10015       Company  Credit Card     560122  700152     1120     Mexico   \n",
       "16    10016        Person  Credit Card     362200  452750        0     Canada   \n",
       "17    10017        Person         Cash     452230  565287      903      Japan   \n",
       "18    10018       Company         Cash     521000  651250     1042      Spain   \n",
       "\n",
       "   Continent  Profits  \n",
       "0    America    30000  \n",
       "1       Asia   130350  \n",
       "2    America   112750  \n",
       "3     Europe   141250  \n",
       "4    America   128075  \n",
       "5    America   103875  \n",
       "6    America   174075  \n",
       "7    America   185250  \n",
       "8    America   135250  \n",
       "9    America    20750  \n",
       "10   America   113825  \n",
       "11   America   130008  \n",
       "12   America   113000  \n",
       "13    Europe    88000  \n",
       "14   America    60252  \n",
       "15   America   140030  \n",
       "16   America    90550  \n",
       "17      Asia   113057  \n",
       "18    Europe   130250  "
      ]
     },
     "execution_count": 36,
     "metadata": {},
     "output_type": "execute_result"
    }
   ],
   "source": [
    "df_operations['Profits'] = df_operations['Sales'] - df_operations['Purchases']\n",
    "df_operations"
   ]
  },
  {
   "cell_type": "markdown",
   "metadata": {},
   "source": [
    "### Practice One: Get a list of all operations on Europe with transfer payment type."
   ]
  },
  {
   "cell_type": "code",
   "execution_count": 37,
   "metadata": {},
   "outputs": [
    {
     "data": {
      "text/html": [
       "<div>\n",
       "<style scoped>\n",
       "    .dataframe tbody tr th:only-of-type {\n",
       "        vertical-align: middle;\n",
       "    }\n",
       "\n",
       "    .dataframe tbody tr th {\n",
       "        vertical-align: top;\n",
       "    }\n",
       "\n",
       "    .dataframe thead th {\n",
       "        text-align: right;\n",
       "    }\n",
       "</style>\n",
       "<table border=\"1\" class=\"dataframe\">\n",
       "  <thead>\n",
       "    <tr style=\"text-align: right;\">\n",
       "      <th></th>\n",
       "      <th>Customer</th>\n",
       "      <th>Customer Type</th>\n",
       "      <th>Payment Type</th>\n",
       "      <th>Purchases</th>\n",
       "      <th>Sales</th>\n",
       "      <th>Refunds</th>\n",
       "      <th>Country</th>\n",
       "      <th>Continent</th>\n",
       "      <th>Profits</th>\n",
       "    </tr>\n",
       "  </thead>\n",
       "  <tbody>\n",
       "    <tr>\n",
       "      <th>3</th>\n",
       "      <td>10003</td>\n",
       "      <td>Company</td>\n",
       "      <td>Transfer</td>\n",
       "      <td>565000</td>\n",
       "      <td>706250</td>\n",
       "      <td>1130</td>\n",
       "      <td>Spain</td>\n",
       "      <td>Europe</td>\n",
       "      <td>141250</td>\n",
       "    </tr>\n",
       "    <tr>\n",
       "      <th>13</th>\n",
       "      <td>10013</td>\n",
       "      <td>Person</td>\n",
       "      <td>Transfer</td>\n",
       "      <td>352000</td>\n",
       "      <td>440000</td>\n",
       "      <td>704</td>\n",
       "      <td>Germany</td>\n",
       "      <td>Europe</td>\n",
       "      <td>88000</td>\n",
       "    </tr>\n",
       "  </tbody>\n",
       "</table>\n",
       "</div>"
      ],
      "text/plain": [
       "   Customer Customer Type Payment Type  Purchases   Sales  Refunds  Country  \\\n",
       "3     10003       Company     Transfer     565000  706250     1130    Spain   \n",
       "13    10013        Person     Transfer     352000  440000      704  Germany   \n",
       "\n",
       "   Continent  Profits  \n",
       "3     Europe   141250  \n",
       "13    Europe    88000  "
      ]
     },
     "execution_count": 37,
     "metadata": {},
     "output_type": "execute_result"
    }
   ],
   "source": [
    "# Type your code here\n",
    "df_operations[(df_operations['Continent'] == 'Europe') & (df_operations['Payment Type'] == 'Transfer')]"
   ]
  },
  {
   "cell_type": "markdown",
   "metadata": {},
   "source": [
    "### Practice Two: Get the columns Customer, Country and Continent of operations data frame. But only the rows five, six and seven."
   ]
  },
  {
   "cell_type": "code",
   "execution_count": 50,
   "metadata": {},
   "outputs": [
    {
     "data": {
      "text/html": [
       "<div>\n",
       "<style scoped>\n",
       "    .dataframe tbody tr th:only-of-type {\n",
       "        vertical-align: middle;\n",
       "    }\n",
       "\n",
       "    .dataframe tbody tr th {\n",
       "        vertical-align: top;\n",
       "    }\n",
       "\n",
       "    .dataframe thead th {\n",
       "        text-align: right;\n",
       "    }\n",
       "</style>\n",
       "<table border=\"1\" class=\"dataframe\">\n",
       "  <thead>\n",
       "    <tr style=\"text-align: right;\">\n",
       "      <th></th>\n",
       "      <th>Customer</th>\n",
       "      <th>Country</th>\n",
       "      <th>Continent</th>\n",
       "    </tr>\n",
       "  </thead>\n",
       "  <tbody>\n",
       "    <tr>\n",
       "      <th>5</th>\n",
       "      <td>10005</td>\n",
       "      <td>Canada</td>\n",
       "      <td>America</td>\n",
       "    </tr>\n",
       "    <tr>\n",
       "      <th>6</th>\n",
       "      <td>10006</td>\n",
       "      <td>EEUU</td>\n",
       "      <td>America</td>\n",
       "    </tr>\n",
       "    <tr>\n",
       "      <th>7</th>\n",
       "      <td>10007</td>\n",
       "      <td>Chile</td>\n",
       "      <td>America</td>\n",
       "    </tr>\n",
       "    <tr>\n",
       "      <th>8</th>\n",
       "      <td>10008</td>\n",
       "      <td>EEUU</td>\n",
       "      <td>America</td>\n",
       "    </tr>\n",
       "  </tbody>\n",
       "</table>\n",
       "</div>"
      ],
      "text/plain": [
       "  Customer Country Continent\n",
       "5    10005  Canada   America\n",
       "6    10006    EEUU   America\n",
       "7    10007   Chile   America\n",
       "8    10008    EEUU   America"
      ]
     },
     "execution_count": 50,
     "metadata": {},
     "output_type": "execute_result"
    }
   ],
   "source": [
    "# Type your code here\n",
    "df_operations.loc[5:8,['Customer', 'Country', 'Continent']]"
   ]
  },
  {
   "cell_type": "markdown",
   "metadata": {},
   "source": [
    "### Practice Three: In operations data frame, add a new column named deduction and assign to it fifteen percent from each row of the column Sales."
   ]
  },
  {
   "cell_type": "code",
   "execution_count": 53,
   "metadata": {},
   "outputs": [],
   "source": [
    "# Type your code here\n",
    "df_operations['Deduciton'] = df_operations['Sales'] * 15/100\n"
   ]
  },
  {
   "cell_type": "code",
   "execution_count": 54,
   "metadata": {},
   "outputs": [
    {
     "data": {
      "text/html": [
       "<div>\n",
       "<style scoped>\n",
       "    .dataframe tbody tr th:only-of-type {\n",
       "        vertical-align: middle;\n",
       "    }\n",
       "\n",
       "    .dataframe tbody tr th {\n",
       "        vertical-align: top;\n",
       "    }\n",
       "\n",
       "    .dataframe thead th {\n",
       "        text-align: right;\n",
       "    }\n",
       "</style>\n",
       "<table border=\"1\" class=\"dataframe\">\n",
       "  <thead>\n",
       "    <tr style=\"text-align: right;\">\n",
       "      <th></th>\n",
       "      <th>Customer</th>\n",
       "      <th>Customer Type</th>\n",
       "      <th>Payment Type</th>\n",
       "      <th>Purchases</th>\n",
       "      <th>Sales</th>\n",
       "      <th>Refunds</th>\n",
       "      <th>Country</th>\n",
       "      <th>Continent</th>\n",
       "      <th>Profits</th>\n",
       "      <th>Deduciton</th>\n",
       "    </tr>\n",
       "  </thead>\n",
       "  <tbody>\n",
       "    <tr>\n",
       "      <th>0</th>\n",
       "      <td>10000</td>\n",
       "      <td>Person</td>\n",
       "      <td>Cash</td>\n",
       "      <td>120000</td>\n",
       "      <td>150000</td>\n",
       "      <td>240</td>\n",
       "      <td>Canada</td>\n",
       "      <td>America</td>\n",
       "      <td>30000</td>\n",
       "      <td>22500.00</td>\n",
       "    </tr>\n",
       "    <tr>\n",
       "      <th>1</th>\n",
       "      <td>10001</td>\n",
       "      <td>Company</td>\n",
       "      <td>Cash</td>\n",
       "      <td>521400</td>\n",
       "      <td>651750</td>\n",
       "      <td>1043</td>\n",
       "      <td>Japan</td>\n",
       "      <td>Asia</td>\n",
       "      <td>130350</td>\n",
       "      <td>97762.50</td>\n",
       "    </tr>\n",
       "    <tr>\n",
       "      <th>2</th>\n",
       "      <td>10002</td>\n",
       "      <td>Company</td>\n",
       "      <td>Credit Card</td>\n",
       "      <td>451000</td>\n",
       "      <td>563750</td>\n",
       "      <td>902</td>\n",
       "      <td>Mexico</td>\n",
       "      <td>America</td>\n",
       "      <td>112750</td>\n",
       "      <td>84562.50</td>\n",
       "    </tr>\n",
       "    <tr>\n",
       "      <th>3</th>\n",
       "      <td>10003</td>\n",
       "      <td>Company</td>\n",
       "      <td>Transfer</td>\n",
       "      <td>565000</td>\n",
       "      <td>706250</td>\n",
       "      <td>1130</td>\n",
       "      <td>Spain</td>\n",
       "      <td>Europe</td>\n",
       "      <td>141250</td>\n",
       "      <td>105937.50</td>\n",
       "    </tr>\n",
       "    <tr>\n",
       "      <th>4</th>\n",
       "      <td>10004</td>\n",
       "      <td>Person</td>\n",
       "      <td>Transfer</td>\n",
       "      <td>512300</td>\n",
       "      <td>640375</td>\n",
       "      <td>1024</td>\n",
       "      <td>Argentina</td>\n",
       "      <td>America</td>\n",
       "      <td>128075</td>\n",
       "      <td>96056.25</td>\n",
       "    </tr>\n",
       "    <tr>\n",
       "      <th>5</th>\n",
       "      <td>10005</td>\n",
       "      <td>Person</td>\n",
       "      <td>Transfer</td>\n",
       "      <td>415500</td>\n",
       "      <td>519375</td>\n",
       "      <td>0</td>\n",
       "      <td>Canada</td>\n",
       "      <td>America</td>\n",
       "      <td>103875</td>\n",
       "      <td>77906.25</td>\n",
       "    </tr>\n",
       "    <tr>\n",
       "      <th>6</th>\n",
       "      <td>10006</td>\n",
       "      <td>Company</td>\n",
       "      <td>Credit Card</td>\n",
       "      <td>696300</td>\n",
       "      <td>870375</td>\n",
       "      <td>1392</td>\n",
       "      <td>EEUU</td>\n",
       "      <td>America</td>\n",
       "      <td>174075</td>\n",
       "      <td>130556.25</td>\n",
       "    </tr>\n",
       "    <tr>\n",
       "      <th>7</th>\n",
       "      <td>10007</td>\n",
       "      <td>Person</td>\n",
       "      <td>Cash</td>\n",
       "      <td>741000</td>\n",
       "      <td>926250</td>\n",
       "      <td>1482</td>\n",
       "      <td>Chile</td>\n",
       "      <td>America</td>\n",
       "      <td>185250</td>\n",
       "      <td>138937.50</td>\n",
       "    </tr>\n",
       "    <tr>\n",
       "      <th>8</th>\n",
       "      <td>10008</td>\n",
       "      <td>Company</td>\n",
       "      <td>Cash</td>\n",
       "      <td>541000</td>\n",
       "      <td>676250</td>\n",
       "      <td>1082</td>\n",
       "      <td>EEUU</td>\n",
       "      <td>America</td>\n",
       "      <td>135250</td>\n",
       "      <td>101437.50</td>\n",
       "    </tr>\n",
       "    <tr>\n",
       "      <th>9</th>\n",
       "      <td>10009</td>\n",
       "      <td>Company</td>\n",
       "      <td>Cash</td>\n",
       "      <td>83000</td>\n",
       "      <td>103750</td>\n",
       "      <td>166</td>\n",
       "      <td>EEUU</td>\n",
       "      <td>America</td>\n",
       "      <td>20750</td>\n",
       "      <td>15562.50</td>\n",
       "    </tr>\n",
       "    <tr>\n",
       "      <th>10</th>\n",
       "      <td>10010</td>\n",
       "      <td>Company</td>\n",
       "      <td>Cash</td>\n",
       "      <td>454100</td>\n",
       "      <td>567925</td>\n",
       "      <td>910</td>\n",
       "      <td>EEUU</td>\n",
       "      <td>America</td>\n",
       "      <td>113825</td>\n",
       "      <td>85188.75</td>\n",
       "    </tr>\n",
       "    <tr>\n",
       "      <th>11</th>\n",
       "      <td>10011</td>\n",
       "      <td>Person</td>\n",
       "      <td>Transfer</td>\n",
       "      <td>520033</td>\n",
       "      <td>650041</td>\n",
       "      <td>1041</td>\n",
       "      <td>EEUU</td>\n",
       "      <td>America</td>\n",
       "      <td>130008</td>\n",
       "      <td>97506.15</td>\n",
       "    </tr>\n",
       "    <tr>\n",
       "      <th>12</th>\n",
       "      <td>10012</td>\n",
       "      <td>Person</td>\n",
       "      <td>Credit Card</td>\n",
       "      <td>452000</td>\n",
       "      <td>565000</td>\n",
       "      <td>904</td>\n",
       "      <td>Canada</td>\n",
       "      <td>America</td>\n",
       "      <td>113000</td>\n",
       "      <td>84750.00</td>\n",
       "    </tr>\n",
       "    <tr>\n",
       "      <th>13</th>\n",
       "      <td>10013</td>\n",
       "      <td>Person</td>\n",
       "      <td>Transfer</td>\n",
       "      <td>352000</td>\n",
       "      <td>440000</td>\n",
       "      <td>704</td>\n",
       "      <td>Germany</td>\n",
       "      <td>Europe</td>\n",
       "      <td>88000</td>\n",
       "      <td>66000.00</td>\n",
       "    </tr>\n",
       "    <tr>\n",
       "      <th>14</th>\n",
       "      <td>10014</td>\n",
       "      <td>Company</td>\n",
       "      <td>Transfer</td>\n",
       "      <td>241010</td>\n",
       "      <td>301262</td>\n",
       "      <td>480</td>\n",
       "      <td>EEUU</td>\n",
       "      <td>America</td>\n",
       "      <td>60252</td>\n",
       "      <td>45189.30</td>\n",
       "    </tr>\n",
       "    <tr>\n",
       "      <th>15</th>\n",
       "      <td>10015</td>\n",
       "      <td>Company</td>\n",
       "      <td>Credit Card</td>\n",
       "      <td>560122</td>\n",
       "      <td>700152</td>\n",
       "      <td>1120</td>\n",
       "      <td>Mexico</td>\n",
       "      <td>America</td>\n",
       "      <td>140030</td>\n",
       "      <td>105022.80</td>\n",
       "    </tr>\n",
       "    <tr>\n",
       "      <th>16</th>\n",
       "      <td>10016</td>\n",
       "      <td>Person</td>\n",
       "      <td>Credit Card</td>\n",
       "      <td>362200</td>\n",
       "      <td>452750</td>\n",
       "      <td>0</td>\n",
       "      <td>Canada</td>\n",
       "      <td>America</td>\n",
       "      <td>90550</td>\n",
       "      <td>67912.50</td>\n",
       "    </tr>\n",
       "    <tr>\n",
       "      <th>17</th>\n",
       "      <td>10017</td>\n",
       "      <td>Person</td>\n",
       "      <td>Cash</td>\n",
       "      <td>452230</td>\n",
       "      <td>565287</td>\n",
       "      <td>903</td>\n",
       "      <td>Japan</td>\n",
       "      <td>Asia</td>\n",
       "      <td>113057</td>\n",
       "      <td>84793.05</td>\n",
       "    </tr>\n",
       "    <tr>\n",
       "      <th>18</th>\n",
       "      <td>10018</td>\n",
       "      <td>Company</td>\n",
       "      <td>Cash</td>\n",
       "      <td>521000</td>\n",
       "      <td>651250</td>\n",
       "      <td>1042</td>\n",
       "      <td>Spain</td>\n",
       "      <td>Europe</td>\n",
       "      <td>130250</td>\n",
       "      <td>97687.50</td>\n",
       "    </tr>\n",
       "  </tbody>\n",
       "</table>\n",
       "</div>"
      ],
      "text/plain": [
       "   Customer Customer Type Payment Type  Purchases   Sales  Refunds    Country  \\\n",
       "0     10000        Person         Cash     120000  150000      240     Canada   \n",
       "1     10001       Company         Cash     521400  651750     1043      Japan   \n",
       "2     10002       Company  Credit Card     451000  563750      902     Mexico   \n",
       "3     10003       Company     Transfer     565000  706250     1130      Spain   \n",
       "4     10004        Person     Transfer     512300  640375     1024  Argentina   \n",
       "5     10005        Person     Transfer     415500  519375        0     Canada   \n",
       "6     10006       Company  Credit Card     696300  870375     1392       EEUU   \n",
       "7     10007        Person         Cash     741000  926250     1482      Chile   \n",
       "8     10008       Company         Cash     541000  676250     1082       EEUU   \n",
       "9     10009       Company         Cash      83000  103750      166       EEUU   \n",
       "10    10010       Company         Cash     454100  567925      910       EEUU   \n",
       "11    10011        Person     Transfer     520033  650041     1041       EEUU   \n",
       "12    10012        Person  Credit Card     452000  565000      904     Canada   \n",
       "13    10013        Person     Transfer     352000  440000      704    Germany   \n",
       "14    10014       Company     Transfer     241010  301262      480       EEUU   \n",
       "15    10015       Company  Credit Card     560122  700152     1120     Mexico   \n",
       "16    10016        Person  Credit Card     362200  452750        0     Canada   \n",
       "17    10017        Person         Cash     452230  565287      903      Japan   \n",
       "18    10018       Company         Cash     521000  651250     1042      Spain   \n",
       "\n",
       "   Continent  Profits  Deduciton  \n",
       "0    America    30000   22500.00  \n",
       "1       Asia   130350   97762.50  \n",
       "2    America   112750   84562.50  \n",
       "3     Europe   141250  105937.50  \n",
       "4    America   128075   96056.25  \n",
       "5    America   103875   77906.25  \n",
       "6    America   174075  130556.25  \n",
       "7    America   185250  138937.50  \n",
       "8    America   135250  101437.50  \n",
       "9    America    20750   15562.50  \n",
       "10   America   113825   85188.75  \n",
       "11   America   130008   97506.15  \n",
       "12   America   113000   84750.00  \n",
       "13    Europe    88000   66000.00  \n",
       "14   America    60252   45189.30  \n",
       "15   America   140030  105022.80  \n",
       "16   America    90550   67912.50  \n",
       "17      Asia   113057   84793.05  \n",
       "18    Europe   130250   97687.50  "
      ]
     },
     "execution_count": 54,
     "metadata": {},
     "output_type": "execute_result"
    }
   ],
   "source": [
    "df_operations"
   ]
  },
  {
   "cell_type": "code",
   "execution_count": null,
   "metadata": {},
   "outputs": [],
   "source": []
  }
 ],
 "metadata": {
  "kernelspec": {
   "display_name": "Python 3",
   "language": "python",
   "name": "python3"
  },
  "language_info": {
   "codemirror_mode": {
    "name": "ipython",
    "version": 3
   },
   "file_extension": ".py",
   "mimetype": "text/x-python",
   "name": "python",
   "nbconvert_exporter": "python",
   "pygments_lexer": "ipython3",
   "version": "3.8.8"
  }
 },
 "nbformat": 4,
 "nbformat_minor": 4
}

{
 "cells": [
  {
   "cell_type": "code",
   "execution_count": 6,
   "id": "c40276c6",
   "metadata": {},
   "outputs": [],
   "source": [
    "#Data \n",
    "revenue = [14574.49, 7606.46, 8611.41, 9175.41, 8058.65, 8105.44, 11496.28, 9766.09, 10305.32, 14379.96, 10713.97, 15433.50]\n",
    "expenses = [12051.82, 5695.07, 12319.20, 12089.72, 8658.57, 840.20, 3285.73, 5821.12, 6976.93, 16618.61, 10054.37, 3803.96]"
   ]
  },
  {
   "cell_type": "code",
   "execution_count": 7,
   "id": "1a0f1a02",
   "metadata": {},
   "outputs": [],
   "source": [
    "#profit \n",
    "profit = []\n",
    "index = 0 \n",
    "while index < len(revenue):\n",
    "    profit.append(round(revenue[index] - expenses[index], 2))\n",
    "    index += 1"
   ]
  },
  {
   "cell_type": "code",
   "execution_count": 9,
   "id": "6c7265d1",
   "metadata": {},
   "outputs": [],
   "source": [
    "#tax\n",
    "tax = [round((p * 30)/100) for p in profit]"
   ]
  },
  {
   "cell_type": "code",
   "execution_count": 12,
   "id": "dca1d4e5",
   "metadata": {},
   "outputs": [],
   "source": [
    "#profit after tax \n",
    "profitAfterTax = []\n",
    "for i in range(0, len(tax)):\n",
    "    profitAfterTax.append(profit[i] - tax[i])"
   ]
  },
  {
   "cell_type": "code",
   "execution_count": 14,
   "id": "f282218e",
   "metadata": {},
   "outputs": [],
   "source": [
    "#profit margin \n",
    "profitMargin = []\n",
    "for i in range(0, len(profitAfterTax)):\n",
    "    profitMargin.append(round((profitAfterTax[i]/revenue[i])*100))"
   ]
  },
  {
   "cell_type": "code",
   "execution_count": 16,
   "id": "3afaf47e",
   "metadata": {},
   "outputs": [],
   "source": [
    "#mean \n",
    "mean = sum(profitAfterTax)/len(profitAfterTax)"
   ]
  },
  {
   "cell_type": "code",
   "execution_count": 26,
   "id": "c4abcf42",
   "metadata": {},
   "outputs": [],
   "source": [
    "#good months & bad months\n",
    "goodMonths = {}\n",
    "badMonths = {}\n",
    "for i in range(0, len(profitAfterTax)):\n",
    "    if(profitAfterTax[i] > mean):\n",
    "        goodMonths[i] = profitAfterTax[i]\n",
    "    else: \n",
    "        badMonths[i] = profitAfterTax[i]"
   ]
  },
  {
   "cell_type": "code",
   "execution_count": 29,
   "id": "115b5e49",
   "metadata": {},
   "outputs": [],
   "source": [
    "#best month \n",
    "bestMonth = max(goodMonths, key = lambda x: goodMonths[x])"
   ]
  },
  {
   "cell_type": "code",
   "execution_count": 30,
   "id": "58c7081b",
   "metadata": {},
   "outputs": [],
   "source": [
    "#worst month \n",
    "worstMonth = min(badMonths, key = lambda x: badMonths[x])\n"
   ]
  },
  {
   "cell_type": "code",
   "execution_count": 33,
   "id": "5df21926",
   "metadata": {},
   "outputs": [
    {
     "name": "stdout",
     "output_type": "stream",
     "text": [
      "[2522.67, 1911.39, -3707.79, -2914.31, -599.92, 7265.24, 8210.55, 3944.97, 3328.39, -2238.65, 659.6, 11629.54]\n",
      "[757, 573, -1112, -874, -180, 2180, 2463, 1183, 999, -672, 198, 3489]\n",
      "[1765.67, 1338.39, -2595.79, -2040.31, -419.91999999999996, 5085.24, 5747.549999999999, 2761.97, 2329.39, -1566.65, 461.6, 8140.540000000001]\n",
      "[12, 18, -30, -22, -5, 63, 50, 28, 23, -11, 4, 53]\n",
      "1750.64\n",
      "{0: 1765.67, 5: 5085.24, 6: 5747.549999999999, 7: 2761.97, 8: 2329.39, 11: 8140.540000000001}\n",
      "{1: 1338.39, 2: -2595.79, 3: -2040.31, 4: -419.91999999999996, 9: -1566.65, 10: 461.6}\n",
      "11\n",
      "2\n"
     ]
    }
   ],
   "source": [
    "#print results \n",
    "print(profit)\n",
    "print(tax)\n",
    "print(profitAfterTax)\n",
    "print(profitMargin)\n",
    "print(mean)\n",
    "print(goodMonths)\n",
    "print(badMonths)\n",
    "print(bestMonth)\n",
    "print(worstMonth)"
   ]
  },
  {
   "cell_type": "code",
   "execution_count": null,
   "id": "1be2ebfa",
   "metadata": {},
   "outputs": [],
   "source": []
  }
 ],
 "metadata": {
  "kernelspec": {
   "display_name": "Python 3",
   "language": "python",
   "name": "python3"
  },
  "language_info": {
   "codemirror_mode": {
    "name": "ipython",
    "version": 3
   },
   "file_extension": ".py",
   "mimetype": "text/x-python",
   "name": "python",
   "nbconvert_exporter": "python",
   "pygments_lexer": "ipython3",
   "version": "3.8.8"
  }
 },
 "nbformat": 4,
 "nbformat_minor": 5
}

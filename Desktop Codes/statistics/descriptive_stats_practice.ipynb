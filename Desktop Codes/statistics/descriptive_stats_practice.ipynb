{
 "cells": [
  {
   "cell_type": "code",
   "execution_count": 141,
   "metadata": {},
   "outputs": [],
   "source": [
    "import pandas as pd\n",
    "import numpy as np \n",
    "import matplotlib.pyplot as plt \n",
    "import seaborn as sns\n",
    "import os as os\n",
    "import scipy as scipy\n",
    "import math as math \n",
    "from matplotlib.ticker import PercentFormatter\n",
    "import statistics as statistics "
   ]
  },
  {
   "cell_type": "code",
   "execution_count": 142,
   "metadata": {},
   "outputs": [
    {
     "data": {
      "text/plain": [
       "'c:\\\\Users\\\\bhardwam\\\\Desktop\\\\notebooks\\\\statistics'"
      ]
     },
     "execution_count": 142,
     "metadata": {},
     "output_type": "execute_result"
    }
   ],
   "source": [
    "os.getcwd()"
   ]
  },
  {
   "cell_type": "code",
   "execution_count": 143,
   "metadata": {},
   "outputs": [
    {
     "name": "stderr",
     "output_type": "stream",
     "text": [
      "C:\\Users\\bhardwam\\Anaconda3\\lib\\site-packages\\openpyxl\\worksheet\\_reader.py:312: UserWarning: Data Validation extension is not supported and will be removed\n",
      "  warn(msg)\n"
     ]
    }
   ],
   "source": [
    "statData = pd.read_excel(\"descriptive_stat_data.xlsx\")"
   ]
  },
  {
   "cell_type": "code",
   "execution_count": 144,
   "metadata": {},
   "outputs": [
    {
     "data": {
      "text/html": [
       "<div>\n",
       "<style scoped>\n",
       "    .dataframe tbody tr th:only-of-type {\n",
       "        vertical-align: middle;\n",
       "    }\n",
       "\n",
       "    .dataframe tbody tr th {\n",
       "        vertical-align: top;\n",
       "    }\n",
       "\n",
       "    .dataframe thead th {\n",
       "        text-align: right;\n",
       "    }\n",
       "</style>\n",
       "<table border=\"1\" class=\"dataframe\">\n",
       "  <thead>\n",
       "    <tr style=\"text-align: right;\">\n",
       "      <th></th>\n",
       "      <th>ID</th>\n",
       "      <th>Building</th>\n",
       "      <th>Year of sale</th>\n",
       "      <th>Month of sale</th>\n",
       "      <th>Type of property</th>\n",
       "      <th>Property #</th>\n",
       "      <th>Area (ft.)</th>\n",
       "      <th>Price</th>\n",
       "      <th>Status</th>\n",
       "      <th>Unnamed: 9</th>\n",
       "      <th>...</th>\n",
       "      <th>Y</th>\n",
       "      <th>M</th>\n",
       "      <th>D</th>\n",
       "      <th>Gender</th>\n",
       "      <th>Country</th>\n",
       "      <th>State</th>\n",
       "      <th>Purpose</th>\n",
       "      <th>Deal satisfaction</th>\n",
       "      <th>Mortgage</th>\n",
       "      <th>Source</th>\n",
       "    </tr>\n",
       "  </thead>\n",
       "  <tbody>\n",
       "    <tr>\n",
       "      <th>0</th>\n",
       "      <td>1030</td>\n",
       "      <td>1</td>\n",
       "      <td>2005.0</td>\n",
       "      <td>11.0</td>\n",
       "      <td>Apartment</td>\n",
       "      <td>30</td>\n",
       "      <td>743.0856</td>\n",
       "      <td>246172.6760</td>\n",
       "      <td>Sold</td>\n",
       "      <td>NaN</td>\n",
       "      <td>...</td>\n",
       "      <td>1986.0</td>\n",
       "      <td>6.0</td>\n",
       "      <td>21.0</td>\n",
       "      <td>F</td>\n",
       "      <td>USA</td>\n",
       "      <td>California</td>\n",
       "      <td>Home</td>\n",
       "      <td>5.0</td>\n",
       "      <td>No</td>\n",
       "      <td>Website</td>\n",
       "    </tr>\n",
       "    <tr>\n",
       "      <th>1</th>\n",
       "      <td>1029</td>\n",
       "      <td>1</td>\n",
       "      <td>2005.0</td>\n",
       "      <td>10.0</td>\n",
       "      <td>Apartment</td>\n",
       "      <td>29</td>\n",
       "      <td>756.2128</td>\n",
       "      <td>246331.9040</td>\n",
       "      <td>Sold</td>\n",
       "      <td>NaN</td>\n",
       "      <td>...</td>\n",
       "      <td>1983.0</td>\n",
       "      <td>2.0</td>\n",
       "      <td>24.0</td>\n",
       "      <td>F</td>\n",
       "      <td>USA</td>\n",
       "      <td>California</td>\n",
       "      <td>Home</td>\n",
       "      <td>5.0</td>\n",
       "      <td>No</td>\n",
       "      <td>Website</td>\n",
       "    </tr>\n",
       "    <tr>\n",
       "      <th>2</th>\n",
       "      <td>2002</td>\n",
       "      <td>2</td>\n",
       "      <td>2007.0</td>\n",
       "      <td>7.0</td>\n",
       "      <td>Apartment</td>\n",
       "      <td>2</td>\n",
       "      <td>587.2808</td>\n",
       "      <td>209280.9104</td>\n",
       "      <td>Sold</td>\n",
       "      <td>NaN</td>\n",
       "      <td>...</td>\n",
       "      <td>1985.0</td>\n",
       "      <td>12.0</td>\n",
       "      <td>27.0</td>\n",
       "      <td>M</td>\n",
       "      <td>USA</td>\n",
       "      <td>California</td>\n",
       "      <td>Home</td>\n",
       "      <td>1.0</td>\n",
       "      <td>Yes</td>\n",
       "      <td>Client</td>\n",
       "    </tr>\n",
       "    <tr>\n",
       "      <th>3</th>\n",
       "      <td>2031</td>\n",
       "      <td>2</td>\n",
       "      <td>2007.0</td>\n",
       "      <td>12.0</td>\n",
       "      <td>Apartment</td>\n",
       "      <td>31</td>\n",
       "      <td>1604.7464</td>\n",
       "      <td>452667.0064</td>\n",
       "      <td>Sold</td>\n",
       "      <td>NaN</td>\n",
       "      <td>...</td>\n",
       "      <td>1985.0</td>\n",
       "      <td>12.0</td>\n",
       "      <td>27.0</td>\n",
       "      <td>M</td>\n",
       "      <td>USA</td>\n",
       "      <td>California</td>\n",
       "      <td>Investment</td>\n",
       "      <td>3.0</td>\n",
       "      <td>Yes</td>\n",
       "      <td>Website</td>\n",
       "    </tr>\n",
       "    <tr>\n",
       "      <th>4</th>\n",
       "      <td>1049</td>\n",
       "      <td>1</td>\n",
       "      <td>2004.0</td>\n",
       "      <td>11.0</td>\n",
       "      <td>Apartment</td>\n",
       "      <td>49</td>\n",
       "      <td>1375.4508</td>\n",
       "      <td>467083.3132</td>\n",
       "      <td>Sold</td>\n",
       "      <td>NaN</td>\n",
       "      <td>...</td>\n",
       "      <td>1979.0</td>\n",
       "      <td>5.0</td>\n",
       "      <td>15.0</td>\n",
       "      <td>F</td>\n",
       "      <td>USA</td>\n",
       "      <td>California</td>\n",
       "      <td>Home</td>\n",
       "      <td>4.0</td>\n",
       "      <td>No</td>\n",
       "      <td>Agency</td>\n",
       "    </tr>\n",
       "    <tr>\n",
       "      <th>...</th>\n",
       "      <td>...</td>\n",
       "      <td>...</td>\n",
       "      <td>...</td>\n",
       "      <td>...</td>\n",
       "      <td>...</td>\n",
       "      <td>...</td>\n",
       "      <td>...</td>\n",
       "      <td>...</td>\n",
       "      <td>...</td>\n",
       "      <td>...</td>\n",
       "      <td>...</td>\n",
       "      <td>...</td>\n",
       "      <td>...</td>\n",
       "      <td>...</td>\n",
       "      <td>...</td>\n",
       "      <td>...</td>\n",
       "      <td>...</td>\n",
       "      <td>...</td>\n",
       "      <td>...</td>\n",
       "      <td>...</td>\n",
       "      <td>...</td>\n",
       "    </tr>\n",
       "    <tr>\n",
       "      <th>262</th>\n",
       "      <td>5044</td>\n",
       "      <td>5</td>\n",
       "      <td>NaN</td>\n",
       "      <td>NaN</td>\n",
       "      <td>Apartment</td>\n",
       "      <td>44</td>\n",
       "      <td>1238.5836</td>\n",
       "      <td>322610.7392</td>\n",
       "      <td>NaN</td>\n",
       "      <td>NaN</td>\n",
       "      <td>...</td>\n",
       "      <td>NaN</td>\n",
       "      <td>NaN</td>\n",
       "      <td>NaN</td>\n",
       "      <td>NaN</td>\n",
       "      <td>NaN</td>\n",
       "      <td>NaN</td>\n",
       "      <td>NaN</td>\n",
       "      <td>NaN</td>\n",
       "      <td>NaN</td>\n",
       "      <td>NaN</td>\n",
       "    </tr>\n",
       "    <tr>\n",
       "      <th>263</th>\n",
       "      <td>5047</td>\n",
       "      <td>5</td>\n",
       "      <td>NaN</td>\n",
       "      <td>NaN</td>\n",
       "      <td>Apartment</td>\n",
       "      <td>47</td>\n",
       "      <td>794.5184</td>\n",
       "      <td>279191.2560</td>\n",
       "      <td>NaN</td>\n",
       "      <td>NaN</td>\n",
       "      <td>...</td>\n",
       "      <td>NaN</td>\n",
       "      <td>NaN</td>\n",
       "      <td>NaN</td>\n",
       "      <td>NaN</td>\n",
       "      <td>NaN</td>\n",
       "      <td>NaN</td>\n",
       "      <td>NaN</td>\n",
       "      <td>NaN</td>\n",
       "      <td>NaN</td>\n",
       "      <td>NaN</td>\n",
       "    </tr>\n",
       "    <tr>\n",
       "      <th>264</th>\n",
       "      <td>5048</td>\n",
       "      <td>5</td>\n",
       "      <td>NaN</td>\n",
       "      <td>NaN</td>\n",
       "      <td>Apartment</td>\n",
       "      <td>48</td>\n",
       "      <td>1013.2692</td>\n",
       "      <td>287996.5296</td>\n",
       "      <td>NaN</td>\n",
       "      <td>NaN</td>\n",
       "      <td>...</td>\n",
       "      <td>NaN</td>\n",
       "      <td>NaN</td>\n",
       "      <td>NaN</td>\n",
       "      <td>NaN</td>\n",
       "      <td>NaN</td>\n",
       "      <td>NaN</td>\n",
       "      <td>NaN</td>\n",
       "      <td>NaN</td>\n",
       "      <td>NaN</td>\n",
       "      <td>NaN</td>\n",
       "    </tr>\n",
       "    <tr>\n",
       "      <th>265</th>\n",
       "      <td>5050</td>\n",
       "      <td>5</td>\n",
       "      <td>NaN</td>\n",
       "      <td>NaN</td>\n",
       "      <td>Apartment</td>\n",
       "      <td>50</td>\n",
       "      <td>1074.7088</td>\n",
       "      <td>365868.7776</td>\n",
       "      <td>NaN</td>\n",
       "      <td>NaN</td>\n",
       "      <td>...</td>\n",
       "      <td>NaN</td>\n",
       "      <td>NaN</td>\n",
       "      <td>NaN</td>\n",
       "      <td>NaN</td>\n",
       "      <td>NaN</td>\n",
       "      <td>NaN</td>\n",
       "      <td>NaN</td>\n",
       "      <td>NaN</td>\n",
       "      <td>NaN</td>\n",
       "      <td>NaN</td>\n",
       "    </tr>\n",
       "    <tr>\n",
       "      <th>266</th>\n",
       "      <td>5051</td>\n",
       "      <td>5</td>\n",
       "      <td>NaN</td>\n",
       "      <td>NaN</td>\n",
       "      <td>Apartment</td>\n",
       "      <td>51</td>\n",
       "      <td>789.2460</td>\n",
       "      <td>199216.4040</td>\n",
       "      <td>NaN</td>\n",
       "      <td>NaN</td>\n",
       "      <td>...</td>\n",
       "      <td>NaN</td>\n",
       "      <td>NaN</td>\n",
       "      <td>NaN</td>\n",
       "      <td>NaN</td>\n",
       "      <td>NaN</td>\n",
       "      <td>NaN</td>\n",
       "      <td>NaN</td>\n",
       "      <td>NaN</td>\n",
       "      <td>NaN</td>\n",
       "      <td>NaN</td>\n",
       "    </tr>\n",
       "  </tbody>\n",
       "</table>\n",
       "<p>267 rows × 26 columns</p>\n",
       "</div>"
      ],
      "text/plain": [
       "       ID  Building  Year of sale  Month of sale Type of property  Property #  \\\n",
       "0    1030         1        2005.0           11.0        Apartment          30   \n",
       "1    1029         1        2005.0           10.0        Apartment          29   \n",
       "2    2002         2        2007.0            7.0        Apartment           2   \n",
       "3    2031         2        2007.0           12.0        Apartment          31   \n",
       "4    1049         1        2004.0           11.0        Apartment          49   \n",
       "..    ...       ...           ...            ...              ...         ...   \n",
       "262  5044         5           NaN            NaN        Apartment          44   \n",
       "263  5047         5           NaN            NaN        Apartment          47   \n",
       "264  5048         5           NaN            NaN        Apartment          48   \n",
       "265  5050         5           NaN            NaN        Apartment          50   \n",
       "266  5051         5           NaN            NaN        Apartment          51   \n",
       "\n",
       "     Area (ft.)        Price Status  Unnamed: 9  ...       Y     M     D  \\\n",
       "0      743.0856  246172.6760   Sold         NaN  ...  1986.0   6.0  21.0   \n",
       "1      756.2128  246331.9040   Sold         NaN  ...  1983.0   2.0  24.0   \n",
       "2      587.2808  209280.9104   Sold         NaN  ...  1985.0  12.0  27.0   \n",
       "3     1604.7464  452667.0064   Sold         NaN  ...  1985.0  12.0  27.0   \n",
       "4     1375.4508  467083.3132   Sold         NaN  ...  1979.0   5.0  15.0   \n",
       "..          ...          ...    ...         ...  ...     ...   ...   ...   \n",
       "262   1238.5836  322610.7392    NaN         NaN  ...     NaN   NaN   NaN   \n",
       "263    794.5184  279191.2560    NaN         NaN  ...     NaN   NaN   NaN   \n",
       "264   1013.2692  287996.5296    NaN         NaN  ...     NaN   NaN   NaN   \n",
       "265   1074.7088  365868.7776    NaN         NaN  ...     NaN   NaN   NaN   \n",
       "266    789.2460  199216.4040    NaN         NaN  ...     NaN   NaN   NaN   \n",
       "\n",
       "    Gender Country       State     Purpose  Deal satisfaction  Mortgage  \\\n",
       "0        F     USA  California        Home                5.0        No   \n",
       "1        F     USA  California        Home                5.0        No   \n",
       "2        M     USA  California        Home                1.0       Yes   \n",
       "3        M     USA  California  Investment                3.0       Yes   \n",
       "4        F     USA  California        Home                4.0        No   \n",
       "..     ...     ...         ...         ...                ...       ...   \n",
       "262    NaN     NaN         NaN         NaN                NaN       NaN   \n",
       "263    NaN     NaN         NaN         NaN                NaN       NaN   \n",
       "264    NaN     NaN         NaN         NaN                NaN       NaN   \n",
       "265    NaN     NaN         NaN         NaN                NaN       NaN   \n",
       "266    NaN     NaN         NaN         NaN                NaN       NaN   \n",
       "\n",
       "      Source  \n",
       "0    Website  \n",
       "1    Website  \n",
       "2     Client  \n",
       "3    Website  \n",
       "4     Agency  \n",
       "..       ...  \n",
       "262      NaN  \n",
       "263      NaN  \n",
       "264      NaN  \n",
       "265      NaN  \n",
       "266      NaN  \n",
       "\n",
       "[267 rows x 26 columns]"
      ]
     },
     "execution_count": 144,
     "metadata": {},
     "output_type": "execute_result"
    }
   ],
   "source": [
    "statData\n"
   ]
  },
  {
   "cell_type": "code",
   "execution_count": 145,
   "metadata": {},
   "outputs": [
    {
     "data": {
      "text/plain": [
       "0      246172.6760\n",
       "1      246331.9040\n",
       "2      209280.9104\n",
       "3      452667.0064\n",
       "4      467083.3132\n",
       "          ...     \n",
       "262    322610.7392\n",
       "263    279191.2560\n",
       "264    287996.5296\n",
       "265    365868.7776\n",
       "266    199216.4040\n",
       "Name: Price, Length: 267, dtype: float64"
      ]
     },
     "execution_count": 145,
     "metadata": {},
     "output_type": "execute_result"
    }
   ],
   "source": [
    "statData.Price"
   ]
  },
  {
   "cell_type": "code",
   "execution_count": 146,
   "metadata": {},
   "outputs": [
    {
     "data": {
      "image/png": "[encoded data removed]",
      "text/plain": [
       "<Figure size 432x288 with 1 Axes>"
      ]
     },
     "metadata": {
      "needs_background": "light"
     },
     "output_type": "display_data"
    }
   ],
   "source": [
    "plt.hist(statData.Price, bins = 272)\n",
    "plt.show()"
   ]
  },
  {
   "cell_type": "code",
   "execution_count": 147,
   "metadata": {},
   "outputs": [
    {
     "data": {
      "image/png": "[encoded data removed]",
      "text/plain": [
       "<Figure size 432x288 with 1 Axes>"
      ]
     },
     "metadata": {
      "needs_background": "light"
     },
     "output_type": "display_data"
    }
   ],
   "source": [
    "binsForHist = list(range(math.floor(min(statData.Price)), math.ceil(max(statData.Price)+1), 100000))\n",
    "plt.hist(statData.Price, bins = binsForHist)\n",
    "plt.show()"
   ]
  },
  {
   "cell_type": "code",
   "execution_count": 148,
   "metadata": {},
   "outputs": [
    {
     "data": {
      "text/plain": [
       "<AxesSubplot:xlabel='Area (ft.)', ylabel='Price'>"
      ]
     },
     "execution_count": 148,
     "metadata": {},
     "output_type": "execute_result"
    },
    {
     "data": {
      "image/png": "[encoded data removed]",
      "text/plain": [
       "<Figure size 432x288 with 1 Axes>"
      ]
     },
     "metadata": {
      "needs_background": "light"
     },
     "output_type": "display_data"
    }
   ],
   "source": [
    "sns.scatterplot(data = statData, x = \"Area (ft.)\", y =\"Price\")"
   ]
  },
  {
   "cell_type": "code",
   "execution_count": 149,
   "metadata": {},
   "outputs": [
    {
     "data": {
      "text/html": [
       "<div>\n",
       "<style scoped>\n",
       "    .dataframe tbody tr th:only-of-type {\n",
       "        vertical-align: middle;\n",
       "    }\n",
       "\n",
       "    .dataframe tbody tr th {\n",
       "        vertical-align: top;\n",
       "    }\n",
       "\n",
       "    .dataframe thead th {\n",
       "        text-align: right;\n",
       "    }\n",
       "</style>\n",
       "<table border=\"1\" class=\"dataframe\">\n",
       "  <thead>\n",
       "    <tr style=\"text-align: right;\">\n",
       "      <th></th>\n",
       "      <th>Country</th>\n",
       "      <th>Buyers</th>\n",
       "    </tr>\n",
       "  </thead>\n",
       "  <tbody>\n",
       "    <tr>\n",
       "      <th>0</th>\n",
       "      <td>Belgium</td>\n",
       "      <td>2</td>\n",
       "    </tr>\n",
       "    <tr>\n",
       "      <th>1</th>\n",
       "      <td>Canada</td>\n",
       "      <td>7</td>\n",
       "    </tr>\n",
       "    <tr>\n",
       "      <th>2</th>\n",
       "      <td>Denmark</td>\n",
       "      <td>1</td>\n",
       "    </tr>\n",
       "    <tr>\n",
       "      <th>3</th>\n",
       "      <td>Germany</td>\n",
       "      <td>1</td>\n",
       "    </tr>\n",
       "    <tr>\n",
       "      <th>4</th>\n",
       "      <td>Mexico</td>\n",
       "      <td>1</td>\n",
       "    </tr>\n",
       "    <tr>\n",
       "      <th>5</th>\n",
       "      <td>Russia</td>\n",
       "      <td>4</td>\n",
       "    </tr>\n",
       "    <tr>\n",
       "      <th>6</th>\n",
       "      <td>UK</td>\n",
       "      <td>2</td>\n",
       "    </tr>\n",
       "    <tr>\n",
       "      <th>7</th>\n",
       "      <td>USA</td>\n",
       "      <td>177</td>\n",
       "    </tr>\n",
       "  </tbody>\n",
       "</table>\n",
       "</div>"
      ],
      "text/plain": [
       "   Country  Buyers\n",
       "0  Belgium       2\n",
       "1   Canada       7\n",
       "2  Denmark       1\n",
       "3  Germany       1\n",
       "4   Mexico       1\n",
       "5   Russia       4\n",
       "6       UK       2\n",
       "7      USA     177"
      ]
     },
     "execution_count": 149,
     "metadata": {},
     "output_type": "execute_result"
    }
   ],
   "source": [
    "countryStat = statData.groupby([\"Country\"], as_index = False).size()\n",
    "countryStat.columns = [\"Country\", \"Buyers\"]\n",
    "countryStat\n"
   ]
  },
  {
   "cell_type": "code",
   "execution_count": 150,
   "metadata": {},
   "outputs": [],
   "source": [
    "## creae a table country vs number of buyers \n",
    "countryStat[\"Relative_Buyers\"] = countryStat.Buyers /sum(countryStat.Buyers)\n",
    "countryStat = countryStat.sort_values(\"Buyers\", ascending = False)\n"
   ]
  },
  {
   "cell_type": "code",
   "execution_count": 151,
   "metadata": {},
   "outputs": [],
   "source": [
    "countryStat[\"Cum_Buyers\"] = countryStat.Relative_Buyers.cumsum() * 100"
   ]
  },
  {
   "cell_type": "code",
   "execution_count": 152,
   "metadata": {},
   "outputs": [
    {
     "data": {
      "text/html": [
       "<div>\n",
       "<style scoped>\n",
       "    .dataframe tbody tr th:only-of-type {\n",
       "        vertical-align: middle;\n",
       "    }\n",
       "\n",
       "    .dataframe tbody tr th {\n",
       "        vertical-align: top;\n",
       "    }\n",
       "\n",
       "    .dataframe thead th {\n",
       "        text-align: right;\n",
       "    }\n",
       "</style>\n",
       "<table border=\"1\" class=\"dataframe\">\n",
       "  <thead>\n",
       "    <tr style=\"text-align: right;\">\n",
       "      <th></th>\n",
       "      <th>Country</th>\n",
       "      <th>Buyers</th>\n",
       "      <th>Relative_Buyers</th>\n",
       "      <th>Cum_Buyers</th>\n",
       "    </tr>\n",
       "  </thead>\n",
       "  <tbody>\n",
       "    <tr>\n",
       "      <th>7</th>\n",
       "      <td>USA</td>\n",
       "      <td>177</td>\n",
       "      <td>0.907692</td>\n",
       "      <td>90.769231</td>\n",
       "    </tr>\n",
       "    <tr>\n",
       "      <th>1</th>\n",
       "      <td>Canada</td>\n",
       "      <td>7</td>\n",
       "      <td>0.035897</td>\n",
       "      <td>94.358974</td>\n",
       "    </tr>\n",
       "    <tr>\n",
       "      <th>5</th>\n",
       "      <td>Russia</td>\n",
       "      <td>4</td>\n",
       "      <td>0.020513</td>\n",
       "      <td>96.410256</td>\n",
       "    </tr>\n",
       "    <tr>\n",
       "      <th>0</th>\n",
       "      <td>Belgium</td>\n",
       "      <td>2</td>\n",
       "      <td>0.010256</td>\n",
       "      <td>97.435897</td>\n",
       "    </tr>\n",
       "    <tr>\n",
       "      <th>6</th>\n",
       "      <td>UK</td>\n",
       "      <td>2</td>\n",
       "      <td>0.010256</td>\n",
       "      <td>98.461538</td>\n",
       "    </tr>\n",
       "    <tr>\n",
       "      <th>2</th>\n",
       "      <td>Denmark</td>\n",
       "      <td>1</td>\n",
       "      <td>0.005128</td>\n",
       "      <td>98.974359</td>\n",
       "    </tr>\n",
       "    <tr>\n",
       "      <th>3</th>\n",
       "      <td>Germany</td>\n",
       "      <td>1</td>\n",
       "      <td>0.005128</td>\n",
       "      <td>99.487179</td>\n",
       "    </tr>\n",
       "    <tr>\n",
       "      <th>4</th>\n",
       "      <td>Mexico</td>\n",
       "      <td>1</td>\n",
       "      <td>0.005128</td>\n",
       "      <td>100.000000</td>\n",
       "    </tr>\n",
       "  </tbody>\n",
       "</table>\n",
       "</div>"
      ],
      "text/plain": [
       "   Country  Buyers  Relative_Buyers  Cum_Buyers\n",
       "7      USA     177         0.907692   90.769231\n",
       "1   Canada       7         0.035897   94.358974\n",
       "5   Russia       4         0.020513   96.410256\n",
       "0  Belgium       2         0.010256   97.435897\n",
       "6       UK       2         0.010256   98.461538\n",
       "2  Denmark       1         0.005128   98.974359\n",
       "3  Germany       1         0.005128   99.487179\n",
       "4   Mexico       1         0.005128  100.000000"
      ]
     },
     "execution_count": 152,
     "metadata": {},
     "output_type": "execute_result"
    }
   ],
   "source": [
    "countryStat"
   ]
  },
  {
   "cell_type": "code",
   "execution_count": 153,
   "metadata": {},
   "outputs": [
    {
     "data": {
      "image/png": "[encoded data removed]",
      "text/plain": [
       "<Figure size 432x288 with 2 Axes>"
      ]
     },
     "metadata": {
      "needs_background": "light"
     },
     "output_type": "display_data"
    }
   ],
   "source": [
    "first = sns.barplot(data= countryStat, x= \"Country\", y=\"Buyers\")\n",
    "first.set_yticks(range(0,201, 25))\n",
    "pareto = plt.twinx()\n",
    "pareto.plot(countryStat.Country, countryStat.Cum_Buyers, marker= 'o')\n",
    "pareto.set_yticks(range(0,101, 10))\n",
    "pareto.yaxis.set_major_formatter(PercentFormatter())"
   ]
  },
  {
   "cell_type": "code",
   "execution_count": 154,
   "metadata": {},
   "outputs": [],
   "source": [
    "#TODO: calcualte mean, median, mode, variance, standard deviation, coefficient of variance and covariance and corelation covariant.\n"
   ]
  },
  {
   "cell_type": "markdown",
   "metadata": {},
   "source": [
    "INFEERNIAL STASTICTICS \n"
   ]
  },
  {
   "cell_type": "code",
   "execution_count": 155,
   "metadata": {},
   "outputs": [],
   "source": [
    "data = [567.45,\n",
    "572.45,\n",
    "572.45,\n",
    "589.12,\n",
    "613.87,\n",
    "615.78,\n",
    "628.45,\n",
    "644.87,\n",
    "650.45,\n",
    "652.20,\n",
    "656.87,\n",
    "661.45,\n",
    "666.45,\n",
    "667.70,\n",
    "668.95,\n",
    "675.28,\n",
    "675.78,\n",
    "685.53,\n",
    "694.28,\n",
    "697.62,\n",
    "705.78,\n",
    "705.87,\n",
    "708.12,\n",
    "711.03,\n",
    "714.03,\n",
    "716.03,\n",
    "722.28,\n",
    "728.12,\n",
    "728.70,\n",
    "729.03,\n",
    "730.12,\n",
    "731.95,\n",
    "735.03,\n",
    "736.95,\n",
    "737.37,\n",
    "738.28,\n",
    "739.78,\n",
    "740.62,\n",
    "743.62,\n",
    "747.20,\n",
    "748.20,\n",
    "748.28,\n",
    "748.53,\n",
    "750.03,\n",
    "752.12,\n",
    "754.70,\n",
    "755.03,\n",
    "758.37,\n",
    "760.53,\n",
    "764.03,\n",
    "769.28,\n",
    "775.45,\n",
    "781.20,\n",
    "781.70,\n",
    "785.62,\n",
    "792.78,\n",
    "793.37,\n",
    "795.28,\n",
    "797.62,\n",
    "798.95,\n",
    "799.70,\n",
    "799.95,\n",
    "810.87,\n",
    "811.53,\n",
    "813.62,\n",
    "814.03,\n",
    "814.78,\n",
    "817.87,\n",
    "818.87,\n",
    "820.70,\n",
    "821.12,\n",
    "825.62,\n",
    "828.62,\n",
    "841.45,\n",
    "842.03,\n",
    "842.87,\n",
    "849.62,\n",
    "874.70,\n",
    "878.78,\n",
    "897.45,\n",
    "]"
   ]
  },
  {
   "cell_type": "code",
   "execution_count": 157,
   "metadata": {},
   "outputs": [],
   "source": [
    "mean = statistics.mean(data)\n",
    "median = statistics.median(data)\n",
    "mode = statistics.mode(data)\n",
    "stdDev = statistics.stdev(data)\n"
   ]
  },
  {
   "cell_type": "code",
   "execution_count": 158,
   "metadata": {},
   "outputs": [],
   "source": [
    "dataForDistribution = [117313,\n",
    "104002,\n",
    "113038,\n",
    "101936,\n",
    "84560,\n",
    "113136,\n",
    "80740,\n",
    "100536,\n",
    "105052,\n",
    "87201,\n",
    "91986,\n",
    "94868,\n",
    "90745,\n",
    "102848,\n",
    "85927,\n",
    "112276,\n",
    "108637,\n",
    "96818,\n",
    "92307,\n",
    "114564,\n",
    "109714,\n",
    "108833,\n",
    "115295,\n",
    "89279,\n",
    "81720,\n",
    "89344,\n",
    "114426,\n",
    "90410,\n",
    "95118,\n",
    "113382\n",
    "]"
   ]
  },
  {
   "cell_type": "code",
   "execution_count": 160,
   "metadata": {},
   "outputs": [
    {
     "name": "stdout",
     "output_type": "stream",
     "text": [
      "2095.6606532368032\n"
     ]
    }
   ],
   "source": [
    "standard_error = scipy.stats.sem(dataForDistribution)\n",
    "print(standard_error)"
   ]
  },
  {
   "cell_type": "code",
   "execution_count": 162,
   "metadata": {},
   "outputs": [
    {
     "name": "stdout",
     "output_type": "stream",
     "text": [
      "11285.477997507338\n"
     ]
    }
   ],
   "source": [
    "std_dis = np.std(dataForDistribution)\n",
    "print(std_dis)"
   ]
  },
  {
   "cell_type": "code",
   "execution_count": 167,
   "metadata": {},
   "outputs": [
    {
     "name": "stdout",
     "output_type": "stream",
     "text": [
      "2739\n"
     ]
    }
   ],
   "source": [
    "std_error_population = 15000 /np.sqrt(len(dataForDistribution))\n",
    "print(round(std_error_population))"
   ]
  },
  {
   "cell_type": "code",
   "execution_count": 168,
   "metadata": {},
   "outputs": [
    {
     "data": {
      "text/plain": [
       "(95547.11566417129, 104853.61766916205)"
      ]
     },
     "execution_count": 168,
     "metadata": {},
     "output_type": "execute_result"
    }
   ],
   "source": [
    "#CONFIDENCE INTERVAL \n",
    "scipy.stats.t.interval(alpha= 0.90, df = len(dataForDistribution) -1,\\\n",
    "    loc = np.mean(dataForDistribution), scale = std_error_population)"
   ]
  },
  {
   "cell_type": "code",
   "execution_count": null,
   "metadata": {},
   "outputs": [],
   "source": []
  }
 ],
 "metadata": {
  "interpreter": {
   "hash": "c44c0d597227135c3f525d0be253da60291167b5d49b28cbf9977043b73fb7db"
  },
  "kernelspec": {
   "display_name": "Python 3.8.8 64-bit ('base': conda)",
   "language": "python",
   "name": "python3"
  },
  "language_info": {
   "codemirror_mode": {
    "name": "ipython",
    "version": 3
   },
   "file_extension": ".py",
   "mimetype": "text/x-python",
   "name": "python",
   "nbconvert_exporter": "python",
   "pygments_lexer": "ipython3",
   "version": "3.8.8"
  },
  "orig_nbformat": 4
 },
 "nbformat": 4,
 "nbformat_minor": 2
}

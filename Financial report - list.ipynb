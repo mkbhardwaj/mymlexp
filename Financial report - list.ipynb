{
 "cells": [
  {
   "cell_type": "code",
   "execution_count": 2,
   "id": "1d9c9b89",
   "metadata": {},
   "outputs": [],
   "source": [
    "#Data \n",
    "revenue = [14574.49, 7606.46, 8611.41, 9175.41, 8058.65, 8105.44, 11496.28, 9766.09, 10305.32, 14379.96, 10713.97, 15433.50]\n",
    "expenses = [12051.82, 5695.07, 12319.20, 12089.72, 8658.57, 840.20, 3285.73, 5821.12, 6976.93, 16618.61, 10054.37, 3803.96]\n"
   ]
  },
  {
   "cell_type": "code",
   "execution_count": 3,
   "id": "6c7cde26",
   "metadata": {},
   "outputs": [
    {
     "name": "stdout",
     "output_type": "stream",
     "text": [
      "[2522.67, 1911.39, -3707.79, -2914.31, -599.92, 7265.24, 8210.55, 3944.97, 3328.39, -2238.65, 659.6, 11629.54]\n"
     ]
    }
   ],
   "source": [
    "#profit\n",
    "profit = []\n",
    "i = 0 \n",
    "while i < len(revenue):\n",
    "    profit.append(round(revenue[i] - expenses[i],2))\n",
    "    i += 1\n",
    "print(profit)"
   ]
  },
  {
   "cell_type": "code",
   "execution_count": 4,
   "id": "7b7484df",
   "metadata": {},
   "outputs": [
    {
     "name": "stdout",
     "output_type": "stream",
     "text": [
      "[757, 573, -1112, -874, -180, 2180, 2463, 1183, 999, -672, 198, 3489]\n"
     ]
    }
   ],
   "source": [
    "#tax\n",
    "tax = [round((num * 30)/100) for num in profit]\n",
    "print(tax)"
   ]
  },
  {
   "cell_type": "code",
   "execution_count": 5,
   "id": "bb60e60b",
   "metadata": {},
   "outputs": [
    {
     "name": "stdout",
     "output_type": "stream",
     "text": [
      "[1766, 1338, -2596, -2040, -420, 5085, 5748, 2762, 2329, -1567, 462, 8141]\n"
     ]
    }
   ],
   "source": [
    "# profit after tax\n",
    "i = 0\n",
    "pureProfit = []\n",
    "while i < len(profit):\n",
    "    pureProfit.append(round(profit[i] - tax[i]))\n",
    "    i += 1\n",
    "print(pureProfit)"
   ]
  },
  {
   "cell_type": "code",
   "execution_count": 6,
   "id": "46c36687",
   "metadata": {},
   "outputs": [
    {
     "name": "stdout",
     "output_type": "stream",
     "text": [
      "[12, 18, -30, -22, -5, 63, 50, 28, 23, -11, 4, 53]\n"
     ]
    }
   ],
   "source": [
    "# profit margin \n",
    "i = 0 \n",
    "profitMargin = []\n",
    "while i < len(profit):\n",
    "    profitMargin.append(round((pureProfit[i]/revenue[i])*100))\n",
    "    i += 1\n",
    "print(profitMargin)"
   ]
  },
  {
   "cell_type": "code",
   "execution_count": 7,
   "id": "27cdf5e5",
   "metadata": {},
   "outputs": [
    {
     "data": {
      "text/plain": [
       "1750.6666666666667"
      ]
     },
     "execution_count": 7,
     "metadata": {},
     "output_type": "execute_result"
    }
   ],
   "source": [
    "# mean \n",
    "mean = sum(pureProfit) / len(pureProfit)\n",
    "mean "
   ]
  },
  {
   "cell_type": "code",
   "execution_count": 13,
   "id": "e5297cd5",
   "metadata": {},
   "outputs": [
    {
     "name": "stdout",
     "output_type": "stream",
     "text": [
      "Good Months ----\n",
      "0: 1766\n",
      "5: 5085\n",
      "6: 5748\n",
      "7: 2762\n",
      "8: 2329\n",
      "11: 8141\n",
      "Bad Months ----\n",
      "1: 1338\n",
      "2: -2596\n",
      "3: -2040\n",
      "4: -420\n",
      "9: -1567\n",
      "10: 462\n"
     ]
    }
   ],
   "source": [
    "# good and bad months \n",
    "goodMonths = {}\n",
    "badMonths = {}\n",
    "\n",
    "for i in range(0, len(pureProfit)):\n",
    "    if(pureProfit[i] > mean):\n",
    "        goodMonths[i] = pureProfit[i]\n",
    "    else:\n",
    "        badMonths[i] = pureProfit[i]\n",
    "\n",
    "print(\"Good Months ----\")\n",
    "for i in goodMonths:\n",
    "    print(f'{i}: {goodMonths[i]}')\n",
    "print(\"Bad Months ----\")\n",
    "for i in badMonths:\n",
    "    print(f'{i}: {badMonths[i]}')    "
   ]
  },
  {
   "cell_type": "code",
   "execution_count": 15,
   "id": "96fa00cb",
   "metadata": {},
   "outputs": [
    {
     "name": "stdout",
     "output_type": "stream",
     "text": [
      "Best Month: 8141\n",
      "Worst Month: 1766\n"
     ]
    }
   ],
   "source": [
    "# best month and worst month\n",
    "print(f'Best Month: {max(goodMonths.values())}')\n",
    "\n",
    "print(f'Worst Month: {min(goodMonths.values())}')"
   ]
  },
  {
   "cell_type": "code",
   "execution_count": 16,
   "id": "f44a455b",
   "metadata": {},
   "outputs": [
    {
     "name": "stdout",
     "output_type": "stream",
     "text": [
      "Good Work!\n"
     ]
    }
   ],
   "source": [
    "print('Good Work!')"
   ]
  },
  {
   "cell_type": "code",
   "execution_count": null,
   "id": "5e104e5b",
   "metadata": {},
   "outputs": [],
   "source": []
  }
 ],
 "metadata": {
  "kernelspec": {
   "display_name": "Python 3",
   "language": "python",
   "name": "python3"
  },
  "language_info": {
   "codemirror_mode": {
    "name": "ipython",
    "version": 3
   },
   "file_extension": ".py",
   "mimetype": "text/x-python",
   "name": "python",
   "nbconvert_exporter": "python",
   "pygments_lexer": "ipython3",
   "version": "3.8.8"
  }
 },
 "nbformat": 4,
 "nbformat_minor": 5
}

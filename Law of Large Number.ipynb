{
 "cells": [
  {
   "cell_type": "code",
   "execution_count": 4,
   "id": "da30684b",
   "metadata": {},
   "outputs": [
    {
     "name": "stdout",
     "output_type": "stream",
     "text": [
      "As we increase the number of random variable, we will get closer to 68.8%\n",
      "Expected percentage for 100 is 72.0\n",
      "Expected percentage for 1000 is 67.30000000000001\n",
      "Expected percentage for 10000 is 68.15\n",
      "Expected percentage for 100000 is 68.416\n",
      "Expected percentage for 1000000 is 68.2782\n"
     ]
    }
   ],
   "source": [
    "'''accoding to law of large number mean of X(n)) -> E(X) when X-> infinity\n",
    "   for this example well curve state to give us number between -1 to 1 is 68 percent so as we increase the number of \n",
    "   of random variable we should reach near to this.\n",
    "''' \n",
    "print('As we increase the number of random variable, we will get closer to 68.8%')\n",
    "\n",
    "import numpy as np\n",
    "from numpy.random import randn\n",
    "counter = 5;\n",
    "numberOfTrials = 100;\n",
    "expectedCount =0;\n",
    "expectedPercentage = 0;\n",
    "while counter > 0:\n",
    "    loopCount = numberOfTrials\n",
    "    while loopCount > 0:\n",
    "        randomNumber = randn()\n",
    "        if (randomNumber < 1 and randomNumber > -1):\n",
    "            expectedCount += 1;\n",
    "        loopCount -= 1\n",
    "    expectedPercentage = (expectedCount/numberOfTrials) * 100\n",
    "    print(f'Expected percentage for {numberOfTrials} is {expectedPercentage}')\n",
    "    counter -= 1\n",
    "    expectedCount=0\n",
    "    numberOfTrials *= 10"
   ]
  },
  {
   "cell_type": "code",
   "execution_count": null,
   "id": "ba32ca0f",
   "metadata": {},
   "outputs": [],
   "source": []
  }
 ],
 "metadata": {
  "kernelspec": {
   "display_name": "Python 3",
   "language": "python",
   "name": "python3"
  },
  "language_info": {
   "codemirror_mode": {
    "name": "ipython",
    "version": 3
   },
   "file_extension": ".py",
   "mimetype": "text/x-python",
   "name": "python",
   "nbconvert_exporter": "python",
   "pygments_lexer": "ipython3",
   "version": "3.8.8"
  }
 },
 "nbformat": 4,
 "nbformat_minor": 5
}
